{
 "cells": [
  {
   "cell_type": "code",
   "execution_count": 1,
   "metadata": {},
   "outputs": [],
   "source": [
    "import argparse\n",
    "import os\n",
    "import sys\n",
    "import time\n",
    "\n",
    "import torch\n",
    "import torch.optim as optim\n",
    "import torchvision.transforms as transforms\n",
    "from PIL import Image\n",
    "from tensorboardX import SummaryWriter\n",
    "\n",
    "# from dataset import *\n",
    "from torch.utils.data import DataLoader\n",
    "\n",
    "sys.path.append(\"../\")\n",
    "import cfg\n",
    "import func_2d.function as function\n",
    "from conf import settings\n",
    "from func_2d import utils as fn2dutils\n",
    "\n",
    "# from models.discriminatorlayer import discriminator\n",
    "from func_2d.dataset import REFUGE\n",
    "\n",
    "import matplotlib.pyplot as plt\n",
    "from pathlib import Path"
   ]
  },
  {
   "cell_type": "code",
   "execution_count": 5,
   "metadata": {},
   "outputs": [],
   "source": [
    "default_args = argparse.Namespace(\n",
    "    model_id=\"sam2\",\n",
    "    encoder=\"vit_b\",\n",
    "    exp_name=\"REFUGE_MedSAM2\",\n",
    "    vis=1,\n",
    "    prompt=\"bbox\",\n",
    "    prompt_freq=2,\n",
    "    val_freq=1,\n",
    "    gpu=True,\n",
    "    gpu_device=0,\n",
    "    image_size=1024,\n",
    "    out_size=1024,\n",
    "    distributed=\"none\",\n",
    "    dataset=\"REFUGE\",\n",
    "    data_path=\"/hpc/mydata/saugat.kandel/sam2_projects/Medical-SAM2/data/REFUGE\",\n",
    "    sam_ckpt=\"/hpc/mydata/saugat.kandel/sam2_projects/Medical-SAM2/pretrain/REFUGE_2d_pretrain.pth\",\n",
    "    sam_config=\"sam2_hiera_t\",\n",
    "    video_length=2,\n",
    "    b=16,\n",
    "    lr=1e-4,\n",
    "    weights=\"0\",\n",
    "    multimask_output=1,\n",
    "    memory_bank_size=32,\n",
    ")"
   ]
  },
  {
   "cell_type": "code",
   "execution_count": 6,
   "metadata": {},
   "outputs": [],
   "source": [
    "def main(args):\n",
    "    # use bfloat16 for the entire work\n",
    "    torch.autocast(device_type=\"cuda\", dtype=torch.bfloat16).__enter__()\n",
    "\n",
    "    if torch.cuda.get_device_properties(0).major >= 8:\n",
    "        # turn on tfloat32 for Ampere GPUs (https://pytorch.org/docs/stable/notes/cuda.html#tensorfloat-32-tf32-on-ampere-devices)\n",
    "        torch.backends.cuda.matmul.allow_tf32 = True\n",
    "        torch.backends.cudnn.allow_tf32 = True\n",
    "\n",
    "    GPUdevice = torch.device(\"cuda\", args.gpu_device)\n",
    "\n",
    "    \"\"\"load pretrained model\"\"\"\n",
    "    print(\"Loading model...\")\n",
    "    net = fn2dutils.get_network(args, gpu_device=GPUdevice)\n",
    "    print(\"Loaded model.\")\n",
    "\n",
    "    # optimisation\n",
    "    optimizer = optim.Adam(\n",
    "        net.parameters(), lr=args.lr, betas=(0.9, 0.999), eps=1e-08, weight_decay=0, amsgrad=False\n",
    "    )\n",
    "    # scheduler = optim.lr_scheduler.StepLR(optimizer, step_size=10, gamma=0.5)\n",
    "\n",
    "    args.path_helper = fn2dutils.set_log_dir(\"logs\", args.exp_name)\n",
    "    logger = fn2dutils.create_logger(args.path_helper[\"log_path\"])\n",
    "    logger.info(args)\n",
    "\n",
    "    \"\"\"segmentation data\"\"\"\n",
    "    transform_train = transforms.Compose([\n",
    "        transforms.Resize((args.image_size, args.image_size)),\n",
    "        transforms.ToTensor(),\n",
    "    ])\n",
    "\n",
    "    transform_test = transforms.Compose([\n",
    "        transforms.Resize((args.image_size, args.image_size)),\n",
    "        transforms.ToTensor(),\n",
    "    ])\n",
    "\n",
    "    # example of REFUGE dataset\n",
    "    if args.dataset == \"REFUGE\":\n",
    "        \"\"\"REFUGE data\"\"\"\n",
    "        refuge_train_dataset = REFUGE(\n",
    "            args, args.data_path, transform=transform_train, mode=\"Training\"\n",
    "        )\n",
    "        refuge_test_dataset = REFUGE(args, args.data_path, transform=transform_test, mode=\"Test\")\n",
    "\n",
    "        nice_train_loader = DataLoader(\n",
    "            refuge_train_dataset, batch_size=args.b, shuffle=True, num_workers=4, pin_memory=True\n",
    "        )\n",
    "        nice_test_loader = DataLoader(\n",
    "            refuge_test_dataset, batch_size=args.b, shuffle=False, num_workers=4, pin_memory=True\n",
    "        )\n",
    "        \"\"\"end\"\"\"\n",
    "\n",
    "    \"\"\"checkpoint path and tensorboard\"\"\"\n",
    "    checkpoint_path = os.path.join(settings.CHECKPOINT_PATH, args.model_id, settings.TIME_NOW)\n",
    "    # use tensorboard\n",
    "    if not os.path.exists(settings.LOG_DIR):\n",
    "        os.mkdir(settings.LOG_DIR)\n",
    "    writer = SummaryWriter(log_dir=os.path.join(settings.LOG_DIR, args.model_id, settings.TIME_NOW))\n",
    "\n",
    "    # create checkpoint folder to save model\n",
    "    if not os.path.exists(checkpoint_path):\n",
    "        os.makedirs(checkpoint_path)\n",
    "    checkpoint_path = os.path.join(checkpoint_path, \"{net}-{epoch}-{type}.pth\")\n",
    "\n",
    "    \"\"\"begain training\"\"\"\n",
    "    best_tol = 1e4\n",
    "    best_dice = 0.0\n",
    "\n",
    "    for epoch in range(settings.EPOCH):\n",
    "        if epoch == 0:\n",
    "            tol, (eiou, edice) = function.validation_sam(args, nice_test_loader, epoch, net, writer)\n",
    "            logger.info(f\"Total score: {tol}, IOU: {eiou}, DICE: {edice} || @ epoch {epoch}.\")\n",
    "\n",
    "        # training\n",
    "        net.train()\n",
    "        time_start = time.time()\n",
    "        loss, memory_bank_list = function.train_sam(\n",
    "            args, net, optimizer, nice_train_loader, epoch, writer\n",
    "        )\n",
    "        logger.info(f\"Train loss: {loss} || @ epoch {epoch}.\")\n",
    "        time_end = time.time()\n",
    "        print(\"time_for_training \", time_end - time_start)\n",
    "\n",
    "        # validation\n",
    "        net.eval()\n",
    "        if epoch % args.val_freq == 0 or epoch == settings.EPOCH - 1:\n",
    "            tol, (eiou, edice) = function.validation_sam(\n",
    "                args, nice_test_loader, epoch, net, writer, memory_bank_list=memory_bank_list\n",
    "            )\n",
    "            logger.info(f\"Total score: {tol}, IOU: {eiou}, DICE: {edice} || @ epoch {epoch}.\")\n",
    "\n",
    "            if edice > best_dice:\n",
    "                best_dice = edice\n",
    "                torch.save(\n",
    "                    {\"model\": net.state_dict(), \"parameter\": net._parameters},\n",
    "                    os.path.join(args.path_helper[\"ckpt_path\"], \"latest_epoch.pth\"),\n",
    "                )\n",
    "                torch.save(\n",
    "                    {\"memory_bank\": memory_bank_list},\n",
    "                    os.path.join(args.path_helper[\"ckpt_path\"], \"memory_bank.pth\"),\n",
    "                )\n",
    "    writer.close()"
   ]
  },
  {
   "cell_type": "code",
   "execution_count": 7,
   "metadata": {},
   "outputs": [
    {
     "name": "stdout",
     "output_type": "stream",
     "text": [
      "Loading model...\n",
      "Building SAM2 model...\n"
     ]
    },
    {
     "name": "stderr",
     "output_type": "stream",
     "text": [
      "INFO:root:Loaded checkpoint sucessfully\n",
      "Loaded checkpoint sucessfully\n",
      "INFO:root:Namespace(model_id='sam2', encoder='vit_b', exp_name='REFUGE_MedSAM2', vis=1, prompt='bbox', prompt_freq=2, val_freq=1, gpu=True, gpu_device=0, image_size=1024, out_size=1024, distributed='none', dataset='REFUGE', data_path='/hpc/mydata/saugat.kandel/sam2_projects/Medical-SAM2/data/REFUGE', sam_ckpt='/hpc/mydata/saugat.kandel/sam2_projects/Medical-SAM2/pretrain/REFUGE_2d_pretrain.pth', sam_config='sam2_hiera_t', video_length=2, b=16, lr=0.0001, weights='0', multimask_output=1, memory_bank_size=32, path_helper={'prefix': 'logs/REFUGE_MedSAM2_2024_09_18_14_18_10', 'ckpt_path': 'logs/REFUGE_MedSAM2_2024_09_18_14_18_10/Model', 'log_path': 'logs/REFUGE_MedSAM2_2024_09_18_14_18_10/Log', 'sample_path': 'logs/REFUGE_MedSAM2_2024_09_18_14_18_10/Samples'})\n",
      "Namespace(model_id='sam2', encoder='vit_b', exp_name='REFUGE_MedSAM2', vis=1, prompt='bbox', prompt_freq=2, val_freq=1, gpu=True, gpu_device=0, image_size=1024, out_size=1024, distributed='none', dataset='REFUGE', data_path='/hpc/mydata/saugat.kandel/sam2_projects/Medical-SAM2/data/REFUGE', sam_ckpt='/hpc/mydata/saugat.kandel/sam2_projects/Medical-SAM2/pretrain/REFUGE_2d_pretrain.pth', sam_config='sam2_hiera_t', video_length=2, b=16, lr=0.0001, weights='0', multimask_output=1, memory_bank_size=32, path_helper={'prefix': 'logs/REFUGE_MedSAM2_2024_09_18_14_18_10', 'ckpt_path': 'logs/REFUGE_MedSAM2_2024_09_18_14_18_10/Model', 'log_path': 'logs/REFUGE_MedSAM2_2024_09_18_14_18_10/Log', 'sample_path': 'logs/REFUGE_MedSAM2_2024_09_18_14_18_10/Samples'})\n",
      "Namespace(model_id='sam2', encoder='vit_b', exp_name='REFUGE_MedSAM2', vis=1, prompt='bbox', prompt_freq=2, val_freq=1, gpu=True, gpu_device=0, image_size=1024, out_size=1024, distributed='none', dataset='REFUGE', data_path='/hpc/mydata/saugat.kandel/sam2_projects/Medical-SAM2/data/REFUGE', sam_ckpt='/hpc/mydata/saugat.kandel/sam2_projects/Medical-SAM2/pretrain/REFUGE_2d_pretrain.pth', sam_config='sam2_hiera_t', video_length=2, b=16, lr=0.0001, weights='0', multimask_output=1, memory_bank_size=32, path_helper={'prefix': 'logs/REFUGE_MedSAM2_2024_09_18_14_18_10', 'ckpt_path': 'logs/REFUGE_MedSAM2_2024_09_18_14_18_10/Model', 'log_path': 'logs/REFUGE_MedSAM2_2024_09_18_14_18_10/Log', 'sample_path': 'logs/REFUGE_MedSAM2_2024_09_18_14_18_10/Samples'})\n"
     ]
    },
    {
     "name": "stdout",
     "output_type": "stream",
     "text": [
      "Loaded model.\n"
     ]
    },
    {
     "name": "stderr",
     "output_type": "stream",
     "text": [
      "INFO:root:Total score: 0.10136875510215759, IOU: 0.7800176978687383, DICE: 0.8726226878166199 || @ epoch 0.\n",
      "Total score: 0.10136875510215759, IOU: 0.7800176978687383, DICE: 0.8726226878166199 || @ epoch 0.\n",
      "Total score: 0.10136875510215759, IOU: 0.7800176978687383, DICE: 0.8726226878166199 || @ epoch 0.\n",
      "Epoch 0: 100%|██████████| 25/25 [00:41<00:00,  1.67s/img, loss (batch)=0.0565]\n",
      "INFO:root:Train loss: 0.05358761891722679 || @ epoch 0.\n",
      "Train loss: 0.05358761891722679 || @ epoch 0.\n",
      "Train loss: 0.05358761891722679 || @ epoch 0.\n"
     ]
    },
    {
     "name": "stdout",
     "output_type": "stream",
     "text": [
      "time_for_training  41.649803161621094\n"
     ]
    },
    {
     "name": "stderr",
     "output_type": "stream",
     "text": [
      "INFO:root:Total score: 0.11239167302846909, IOU: 0.751289737579541, DICE: 0.8533355379104615 || @ epoch 0.\n",
      "Total score: 0.11239167302846909, IOU: 0.751289737579541, DICE: 0.8533355379104615 || @ epoch 0.\n",
      "Total score: 0.11239167302846909, IOU: 0.751289737579541, DICE: 0.8533355379104615 || @ epoch 0.\n",
      "Epoch 1: 100%|██████████| 25/25 [00:40<00:00,  1.62s/img, loss (batch)=0.0534]\n",
      "INFO:root:Train loss: 0.0524336439371109 || @ epoch 1.\n",
      "Train loss: 0.0524336439371109 || @ epoch 1.\n",
      "Train loss: 0.0524336439371109 || @ epoch 1.\n"
     ]
    },
    {
     "name": "stdout",
     "output_type": "stream",
     "text": [
      "time_for_training  40.460312366485596\n"
     ]
    },
    {
     "name": "stderr",
     "output_type": "stream",
     "text": [
      "INFO:root:Total score: 0.10884302854537964, IOU: 0.7605328927788314, DICE: 0.8593486881256104 || @ epoch 1.\n",
      "Total score: 0.10884302854537964, IOU: 0.7605328927788314, DICE: 0.8593486881256104 || @ epoch 1.\n",
      "Total score: 0.10884302854537964, IOU: 0.7605328927788314, DICE: 0.8593486881256104 || @ epoch 1.\n",
      "Epoch 2: 100%|██████████| 25/25 [00:40<00:00,  1.62s/img, loss (batch)=0.0594]\n",
      "INFO:root:Train loss: 0.052664262652397154 || @ epoch 2.\n",
      "Train loss: 0.052664262652397154 || @ epoch 2.\n",
      "Train loss: 0.052664262652397154 || @ epoch 2.\n"
     ]
    },
    {
     "name": "stdout",
     "output_type": "stream",
     "text": [
      "time_for_training  40.5927209854126\n"
     ]
    },
    {
     "name": "stderr",
     "output_type": "stream",
     "text": [
      "INFO:root:Total score: 0.10304282605648041, IOU: 0.7711213848346032, DICE: 0.8666448521614075 || @ epoch 2.\n",
      "Total score: 0.10304282605648041, IOU: 0.7711213848346032, DICE: 0.8666448521614075 || @ epoch 2.\n",
      "Total score: 0.10304282605648041, IOU: 0.7711213848346032, DICE: 0.8666448521614075 || @ epoch 2.\n",
      "Epoch 3: 100%|██████████| 25/25 [00:40<00:00,  1.61s/img, loss (batch)=0.053] \n",
      "INFO:root:Train loss: 0.05112998634576797 || @ epoch 3.\n",
      "Train loss: 0.05112998634576797 || @ epoch 3.\n",
      "Train loss: 0.05112998634576797 || @ epoch 3.\n"
     ]
    },
    {
     "name": "stdout",
     "output_type": "stream",
     "text": [
      "time_for_training  40.16026186943054\n"
     ]
    },
    {
     "name": "stderr",
     "output_type": "stream",
     "text": [
      "INFO:root:Total score: 0.11173125356435776, IOU: 0.7544308090512163, DICE: 0.8553388071060181 || @ epoch 3.\n",
      "Total score: 0.11173125356435776, IOU: 0.7544308090512163, DICE: 0.8553388071060181 || @ epoch 3.\n",
      "Total score: 0.11173125356435776, IOU: 0.7544308090512163, DICE: 0.8553388071060181 || @ epoch 3.\n",
      "Epoch 4: 100%|██████████| 25/25 [00:40<00:00,  1.61s/img, loss (batch)=0.0498]\n",
      "INFO:root:Train loss: 0.05161822482943535 || @ epoch 4.\n",
      "Train loss: 0.05161822482943535 || @ epoch 4.\n",
      "Train loss: 0.05161822482943535 || @ epoch 4.\n"
     ]
    },
    {
     "name": "stdout",
     "output_type": "stream",
     "text": [
      "time_for_training  40.31901502609253\n"
     ]
    },
    {
     "name": "stderr",
     "output_type": "stream",
     "text": [
      "INFO:root:Total score: 0.11592018604278564, IOU: 0.7448775979055567, DICE: 0.8486284637451171 || @ epoch 4.\n",
      "Total score: 0.11592018604278564, IOU: 0.7448775979055567, DICE: 0.8486284637451171 || @ epoch 4.\n",
      "Total score: 0.11592018604278564, IOU: 0.7448775979055567, DICE: 0.8486284637451171 || @ epoch 4.\n",
      "Epoch 5: 100%|██████████| 25/25 [00:40<00:00,  1.61s/img, loss (batch)=0.0489]\n",
      "INFO:root:Train loss: 0.05195574343204498 || @ epoch 5.\n",
      "Train loss: 0.05195574343204498 || @ epoch 5.\n",
      "Train loss: 0.05195574343204498 || @ epoch 5.\n"
     ]
    },
    {
     "name": "stdout",
     "output_type": "stream",
     "text": [
      "time_for_training  40.14305782318115\n"
     ]
    },
    {
     "name": "stderr",
     "output_type": "stream",
     "text": [
      "INFO:root:Total score: 0.12372041493654251, IOU: 0.7535404752708869, DICE: 0.8541388702392578 || @ epoch 5.\n",
      "Total score: 0.12372041493654251, IOU: 0.7535404752708869, DICE: 0.8541388702392578 || @ epoch 5.\n",
      "Total score: 0.12372041493654251, IOU: 0.7535404752708869, DICE: 0.8541388702392578 || @ epoch 5.\n",
      "Epoch 6: 100%|██████████| 25/25 [00:40<00:00,  1.61s/img, loss (batch)=0.0446]\n",
      "INFO:root:Train loss: 0.051642042398452756 || @ epoch 6.\n",
      "Train loss: 0.051642042398452756 || @ epoch 6.\n",
      "Train loss: 0.051642042398452756 || @ epoch 6.\n"
     ]
    },
    {
     "name": "stdout",
     "output_type": "stream",
     "text": [
      "time_for_training  40.2776095867157\n"
     ]
    },
    {
     "name": "stderr",
     "output_type": "stream",
     "text": [
      "INFO:root:Total score: 0.1072559803724289, IOU: 0.7622483017891633, DICE: 0.8608567428588867 || @ epoch 6.\n",
      "Total score: 0.1072559803724289, IOU: 0.7622483017891633, DICE: 0.8608567428588867 || @ epoch 6.\n",
      "Total score: 0.1072559803724289, IOU: 0.7622483017891633, DICE: 0.8608567428588867 || @ epoch 6.\n",
      "Epoch 7: 100%|██████████| 25/25 [00:40<00:00,  1.63s/img, loss (batch)=0.0464]\n",
      "INFO:root:Train loss: 0.05052577704191208 || @ epoch 7.\n",
      "Train loss: 0.05052577704191208 || @ epoch 7.\n",
      "Train loss: 0.05052577704191208 || @ epoch 7.\n"
     ]
    },
    {
     "name": "stdout",
     "output_type": "stream",
     "text": [
      "time_for_training  40.820916175842285\n"
     ]
    },
    {
     "name": "stderr",
     "output_type": "stream",
     "text": [
      "INFO:root:Total score: 0.10586125403642654, IOU: 0.7656886798479491, DICE: 0.8631748056411743 || @ epoch 7.\n",
      "Total score: 0.10586125403642654, IOU: 0.7656886798479491, DICE: 0.8631748056411743 || @ epoch 7.\n",
      "Total score: 0.10586125403642654, IOU: 0.7656886798479491, DICE: 0.8631748056411743 || @ epoch 7.\n",
      "Epoch 8: 100%|██████████| 25/25 [00:40<00:00,  1.61s/img, loss (batch)=0.0548]\n",
      "INFO:root:Train loss: 0.051807394176721575 || @ epoch 8.\n",
      "Train loss: 0.051807394176721575 || @ epoch 8.\n",
      "Train loss: 0.051807394176721575 || @ epoch 8.\n"
     ]
    },
    {
     "name": "stdout",
     "output_type": "stream",
     "text": [
      "time_for_training  40.232962131500244\n"
     ]
    },
    {
     "name": "stderr",
     "output_type": "stream",
     "text": [
      "INFO:root:Total score: 0.11739873886108398, IOU: 0.7501241022234061, DICE: 0.8527576541900634 || @ epoch 8.\n",
      "Total score: 0.11739873886108398, IOU: 0.7501241022234061, DICE: 0.8527576541900634 || @ epoch 8.\n",
      "Total score: 0.11739873886108398, IOU: 0.7501241022234061, DICE: 0.8527576541900634 || @ epoch 8.\n",
      "Epoch 9: 100%|██████████| 25/25 [00:40<00:00,  1.61s/img, loss (batch)=0.057] \n",
      "INFO:root:Train loss: 0.052034389972686765 || @ epoch 9.\n",
      "Train loss: 0.052034389972686765 || @ epoch 9.\n",
      "Train loss: 0.052034389972686765 || @ epoch 9.\n"
     ]
    },
    {
     "name": "stdout",
     "output_type": "stream",
     "text": [
      "time_for_training  40.358137369155884\n"
     ]
    },
    {
     "name": "stderr",
     "output_type": "stream",
     "text": [
      "INFO:root:Total score: 0.11921778321266174, IOU: 0.7491427643984896, DICE: 0.8515798544883728 || @ epoch 9.\n",
      "Total score: 0.11921778321266174, IOU: 0.7491427643984896, DICE: 0.8515798544883728 || @ epoch 9.\n",
      "Total score: 0.11921778321266174, IOU: 0.7491427643984896, DICE: 0.8515798544883728 || @ epoch 9.\n",
      "Epoch 10: 100%|██████████| 25/25 [00:40<00:00,  1.60s/img, loss (batch)=0.0474]\n",
      "INFO:root:Train loss: 0.051230194568634035 || @ epoch 10.\n",
      "Train loss: 0.051230194568634035 || @ epoch 10.\n",
      "Train loss: 0.051230194568634035 || @ epoch 10.\n"
     ]
    },
    {
     "name": "stdout",
     "output_type": "stream",
     "text": [
      "time_for_training  40.02678632736206\n"
     ]
    },
    {
     "name": "stderr",
     "output_type": "stream",
     "text": [
      "INFO:root:Total score: 0.11097963154315948, IOU: 0.7574772726214838, DICE: 0.8575374865531922 || @ epoch 10.\n",
      "Total score: 0.11097963154315948, IOU: 0.7574772726214838, DICE: 0.8575374865531922 || @ epoch 10.\n",
      "Total score: 0.11097963154315948, IOU: 0.7574772726214838, DICE: 0.8575374865531922 || @ epoch 10.\n",
      "Epoch 11:   0%|          | 0/25 [00:00<?, ?img/s]"
     ]
    }
   ],
   "source": [
    "main(default_args)"
   ]
  },
  {
   "cell_type": "code",
   "execution_count": null,
   "metadata": {},
   "outputs": [],
   "source": []
  }
 ],
 "metadata": {
  "kernelspec": {
   "display_name": "default",
   "language": "python",
   "name": "python3"
  },
  "language_info": {
   "codemirror_mode": {
    "name": "ipython",
    "version": 3
   },
   "file_extension": ".py",
   "mimetype": "text/x-python",
   "name": "python",
   "nbconvert_exporter": "python",
   "pygments_lexer": "ipython3",
   "version": "3.12.5"
  }
 },
 "nbformat": 4,
 "nbformat_minor": 2
}
