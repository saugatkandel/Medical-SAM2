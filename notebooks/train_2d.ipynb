{
 "cells": [
  {
   "cell_type": "code",
   "execution_count": 1,
   "metadata": {},
   "outputs": [],
   "source": [
    "%load_ext autoreload\n",
    "%autoreload 2"
   ]
  },
  {
   "cell_type": "code",
   "execution_count": 4,
   "metadata": {},
   "outputs": [],
   "source": [
    "import os\n",
    "import sys\n",
    "import time\n",
    "import argparse\n",
    "\n",
    "import torch\n",
    "import torch.optim as optim\n",
    "import torchvision.transforms as transforms\n",
    "from tensorboardX import SummaryWriter\n",
    "\n",
    "# from dataset import *\n",
    "from torch.utils.data import DataLoader\n",
    "\n",
    "sys.path.append(\"../\")\n",
    "import cfg\n",
    "import func_2d.function as function\n",
    "from conf import settings\n",
    "from func_2d import utils as fn2dutils\n",
    "\n",
    "# from models.discriminatorlayer import discriminator\n",
    "from func_2d.dataset import REFUGE"
   ]
  },
  {
   "cell_type": "code",
   "execution_count": 12,
   "metadata": {},
   "outputs": [],
   "source": [
    "default_args = argparse.Namespace(\n",
    "    net=\"sam2\",\n",
    "    encoder=\"vit_b\",\n",
    "    exp_name=\"REFUGE_MedSAM2\",\n",
    "    vis=1,\n",
    "    prompt=\"bbox\",\n",
    "    prompt_freq=2,\n",
    "    pretrain=\"/hpc/mydata/saugat.kandel/sam2_projects/Medical-SAM2/pretrain/MedSAM2_pretrain.pth\",\n",
    "    val_freq=1,\n",
    "    gpu=True,\n",
    "    gpu_device=0,\n",
    "    image_size=1024,\n",
    "    out_size=1024,\n",
    "    distributed=\"none\",\n",
    "    dataset=\"REFUGE\",\n",
    "    data_path=\"/hpc/mydata/saugat.kandel/sam2_projects/Medical-SAM2/data/REFUGE\",\n",
    "    sam_ckpt=\"/hpc/mydata/saugat.kandel/sam2_projects/segment-anything-2/checkpoints/sam2_hiera_small.pt\",\n",
    "    sam_config=\"sam2_hiera_s\",\n",
    "    video_length=2,\n",
    "    b=4,\n",
    "    lr=1e-4,\n",
    "    weights=\"0\",\n",
    "    multimask_output=1,\n",
    "    memory_bank_size=16,\n",
    ")"
   ]
  },
  {
   "cell_type": "code",
   "execution_count": 13,
   "metadata": {},
   "outputs": [],
   "source": [
    "def main(args):\n",
    "    # use bfloat16 for the entire work\n",
    "    torch.autocast(device_type=\"cuda\", dtype=torch.bfloat16).__enter__()\n",
    "\n",
    "    if torch.cuda.get_device_properties(0).major >= 8:\n",
    "        # turn on tfloat32 for Ampere GPUs (https://pytorch.org/docs/stable/notes/cuda.html#tensorfloat-32-tf32-on-ampere-devices)\n",
    "        torch.backends.cuda.matmul.allow_tf32 = True\n",
    "        torch.backends.cudnn.allow_tf32 = True\n",
    "\n",
    "    GPUdevice = torch.device(\"cuda\", args.gpu_device)\n",
    "\n",
    "    net = fn2dutils.get_network(args, args.net, use_gpu=args.gpu, gpu_device=GPUdevice, distribution=args.distributed)\n",
    "\n",
    "    # optimisation\n",
    "    optimizer = optim.Adam(net.parameters(), lr=args.lr, betas=(0.9, 0.999), eps=1e-08, weight_decay=0, amsgrad=False)\n",
    "    # scheduler = optim.lr_scheduler.StepLR(optimizer, step_size=10, gamma=0.5)\n",
    "\n",
    "    \"\"\"load pretrained model\"\"\"\n",
    "\n",
    "    args.path_helper = fn2dutils.set_log_dir(\"logs\", args.exp_name)\n",
    "    logger = fn2dutils.create_logger(args.path_helper[\"log_path\"])\n",
    "    logger.info(args)\n",
    "\n",
    "    \"\"\"segmentation data\"\"\"\n",
    "    transform_train = transforms.Compose([\n",
    "        transforms.Resize((args.image_size, args.image_size)),\n",
    "        transforms.ToTensor(),\n",
    "    ])\n",
    "\n",
    "    transform_test = transforms.Compose([\n",
    "        transforms.Resize((args.image_size, args.image_size)),\n",
    "        transforms.ToTensor(),\n",
    "    ])\n",
    "\n",
    "    # example of REFUGE dataset\n",
    "    if args.dataset == \"REFUGE\":\n",
    "        \"\"\"REFUGE data\"\"\"\n",
    "        refuge_train_dataset = REFUGE(args, args.data_path, transform=transform_train, mode=\"Training\")\n",
    "        refuge_test_dataset = REFUGE(args, args.data_path, transform=transform_test, mode=\"Test\")\n",
    "\n",
    "        nice_train_loader = DataLoader(\n",
    "            refuge_train_dataset, batch_size=args.b, shuffle=True, num_workers=2, pin_memory=True\n",
    "        )\n",
    "        nice_test_loader = DataLoader(\n",
    "            refuge_test_dataset, batch_size=args.b, shuffle=False, num_workers=2, pin_memory=True\n",
    "        )\n",
    "        \"\"\"end\"\"\"\n",
    "\n",
    "    \"\"\"checkpoint path and tensorboard\"\"\"\n",
    "    checkpoint_path = os.path.join(settings.CHECKPOINT_PATH, args.net, settings.TIME_NOW)\n",
    "    # use tensorboard\n",
    "    if not os.path.exists(settings.LOG_DIR):\n",
    "        os.mkdir(settings.LOG_DIR)\n",
    "    writer = SummaryWriter(log_dir=os.path.join(settings.LOG_DIR, args.net, settings.TIME_NOW))\n",
    "\n",
    "    # create checkpoint folder to save model\n",
    "    if not os.path.exists(checkpoint_path):\n",
    "        os.makedirs(checkpoint_path)\n",
    "    checkpoint_path = os.path.join(checkpoint_path, \"{net}-{epoch}-{type}.pth\")\n",
    "\n",
    "    \"\"\"begain training\"\"\"\n",
    "    best_tol = 1e4\n",
    "    best_dice = 0.0\n",
    "\n",
    "    for epoch in range(settings.EPOCH):\n",
    "        if epoch == 0:\n",
    "            tol, (eiou, edice) = function.validation_sam(args, nice_test_loader, epoch, net, writer)\n",
    "            logger.info(f\"Total score: {tol}, IOU: {eiou}, DICE: {edice} || @ epoch {epoch}.\")\n",
    "\n",
    "        # training\n",
    "        net.train()\n",
    "        time_start = time.time()\n",
    "        loss = function.train_sam(args, net, optimizer, nice_train_loader, epoch, writer)\n",
    "        logger.info(f\"Train loss: {loss} || @ epoch {epoch}.\")\n",
    "        time_end = time.time()\n",
    "        print(\"time_for_training \", time_end - time_start)\n",
    "\n",
    "        # validation\n",
    "        net.eval()\n",
    "        if epoch % args.val_freq == 0 or epoch == settings.EPOCH - 1:\n",
    "            tol, (eiou, edice) = function.validation_sam(args, nice_test_loader, epoch, net, writer)\n",
    "            logger.info(f\"Total score: {tol}, IOU: {eiou}, DICE: {edice} || @ epoch {epoch}.\")\n",
    "\n",
    "            if edice > best_dice:\n",
    "                best_dice = edice\n",
    "                torch.save(\n",
    "                    {\"model\": net.state_dict(), \"parameter\": net._parameters},\n",
    "                    os.path.join(args.path_helper[\"ckpt_path\"], \"latest_epoch.pth\"),\n",
    "                )\n",
    "\n",
    "    writer.close()"
   ]
  },
  {
   "cell_type": "code",
   "execution_count": 14,
   "metadata": {},
   "outputs": [
    {
     "name": "stderr",
     "output_type": "stream",
     "text": [
      "INFO:root:Loaded checkpoint sucessfully\n",
      "Loaded checkpoint sucessfully\n",
      "INFO:root:Namespace(net='sam2', encoder='vit_b', exp_name='REFUGE_MedSAM2', vis=1, prompt='bbox', prompt_freq=2, pretrain=None, val_freq=1, gpu=True, gpu_device=0, image_size=1024, out_size=1024, distributed='none', dataset='REFUGE', data_path='/hpc/mydata/saugat.kandel/sam2_projects/Medical-SAM2/data/REFUGE', sam_ckpt='/hpc/mydata/saugat.kandel/sam2_projects/segment-anything-2/checkpoints/sam2_hiera_small.pt', sam_config='sam2_hiera_s', video_length=2, b=4, lr=0.0001, weights='0', multimask_output=1, memory_bank_size=16, path_helper={'prefix': 'logs/REFUGE_MedSAM2_2024_09_02_23_22_22', 'ckpt_path': 'logs/REFUGE_MedSAM2_2024_09_02_23_22_22/Model', 'log_path': 'logs/REFUGE_MedSAM2_2024_09_02_23_22_22/Log', 'sample_path': 'logs/REFUGE_MedSAM2_2024_09_02_23_22_22/Samples'})\n",
      "Namespace(net='sam2', encoder='vit_b', exp_name='REFUGE_MedSAM2', vis=1, prompt='bbox', prompt_freq=2, pretrain=None, val_freq=1, gpu=True, gpu_device=0, image_size=1024, out_size=1024, distributed='none', dataset='REFUGE', data_path='/hpc/mydata/saugat.kandel/sam2_projects/Medical-SAM2/data/REFUGE', sam_ckpt='/hpc/mydata/saugat.kandel/sam2_projects/segment-anything-2/checkpoints/sam2_hiera_small.pt', sam_config='sam2_hiera_s', video_length=2, b=4, lr=0.0001, weights='0', multimask_output=1, memory_bank_size=16, path_helper={'prefix': 'logs/REFUGE_MedSAM2_2024_09_02_23_22_22', 'ckpt_path': 'logs/REFUGE_MedSAM2_2024_09_02_23_22_22/Model', 'log_path': 'logs/REFUGE_MedSAM2_2024_09_02_23_22_22/Log', 'sample_path': 'logs/REFUGE_MedSAM2_2024_09_02_23_22_22/Samples'})\n",
      "Namespace(net='sam2', encoder='vit_b', exp_name='REFUGE_MedSAM2', vis=1, prompt='bbox', prompt_freq=2, pretrain=None, val_freq=1, gpu=True, gpu_device=0, image_size=1024, out_size=1024, distributed='none', dataset='REFUGE', data_path='/hpc/mydata/saugat.kandel/sam2_projects/Medical-SAM2/data/REFUGE', sam_ckpt='/hpc/mydata/saugat.kandel/sam2_projects/segment-anything-2/checkpoints/sam2_hiera_small.pt', sam_config='sam2_hiera_s', video_length=2, b=4, lr=0.0001, weights='0', multimask_output=1, memory_bank_size=16, path_helper={'prefix': 'logs/REFUGE_MedSAM2_2024_09_02_23_22_22', 'ckpt_path': 'logs/REFUGE_MedSAM2_2024_09_02_23_22_22/Model', 'log_path': 'logs/REFUGE_MedSAM2_2024_09_02_23_22_22/Log', 'sample_path': 'logs/REFUGE_MedSAM2_2024_09_02_23_22_22/Samples'})\n",
      "                                                                     \r"
     ]
    },
    {
     "ename": "KeyboardInterrupt",
     "evalue": "",
     "output_type": "error",
     "traceback": [
      "\u001b[0;31m---------------------------------------------------------------------------\u001b[0m",
      "\u001b[0;31mKeyboardInterrupt\u001b[0m                         Traceback (most recent call last)",
      "Cell \u001b[0;32mIn[14], line 1\u001b[0m\n\u001b[0;32m----> 1\u001b[0m \u001b[43mmain\u001b[49m\u001b[43m(\u001b[49m\u001b[43mdefault_args\u001b[49m\u001b[43m)\u001b[49m\n",
      "Cell \u001b[0;32mIn[13], line 67\u001b[0m, in \u001b[0;36mmain\u001b[0;34m(args)\u001b[0m\n\u001b[1;32m     65\u001b[0m \u001b[38;5;28;01mfor\u001b[39;00m epoch \u001b[38;5;129;01min\u001b[39;00m \u001b[38;5;28mrange\u001b[39m(settings\u001b[38;5;241m.\u001b[39mEPOCH):\n\u001b[1;32m     66\u001b[0m     \u001b[38;5;28;01mif\u001b[39;00m epoch \u001b[38;5;241m==\u001b[39m \u001b[38;5;241m0\u001b[39m:\n\u001b[0;32m---> 67\u001b[0m         tol, (eiou, edice) \u001b[38;5;241m=\u001b[39m \u001b[43mfunction\u001b[49m\u001b[38;5;241;43m.\u001b[39;49m\u001b[43mvalidation_sam\u001b[49m\u001b[43m(\u001b[49m\u001b[43margs\u001b[49m\u001b[43m,\u001b[49m\u001b[43m \u001b[49m\u001b[43mnice_test_loader\u001b[49m\u001b[43m,\u001b[49m\u001b[43m \u001b[49m\u001b[43mepoch\u001b[49m\u001b[43m,\u001b[49m\u001b[43m \u001b[49m\u001b[43mnet\u001b[49m\u001b[43m,\u001b[49m\u001b[43m \u001b[49m\u001b[43mwriter\u001b[49m\u001b[43m)\u001b[49m\n\u001b[1;32m     68\u001b[0m         logger\u001b[38;5;241m.\u001b[39minfo(\u001b[38;5;124mf\u001b[39m\u001b[38;5;124m\"\u001b[39m\u001b[38;5;124mTotal score: \u001b[39m\u001b[38;5;132;01m{\u001b[39;00mtol\u001b[38;5;132;01m}\u001b[39;00m\u001b[38;5;124m, IOU: \u001b[39m\u001b[38;5;132;01m{\u001b[39;00meiou\u001b[38;5;132;01m}\u001b[39;00m\u001b[38;5;124m, DICE: \u001b[39m\u001b[38;5;132;01m{\u001b[39;00medice\u001b[38;5;132;01m}\u001b[39;00m\u001b[38;5;124m || @ epoch \u001b[39m\u001b[38;5;132;01m{\u001b[39;00mepoch\u001b[38;5;132;01m}\u001b[39;00m\u001b[38;5;124m.\u001b[39m\u001b[38;5;124m\"\u001b[39m)\n\u001b[1;32m     70\u001b[0m     \u001b[38;5;66;03m# training\u001b[39;00m\n",
      "File \u001b[0;32m/hpc/mydata/saugat.kandel/sam2_projects/Medical-SAM2/notebooks/../func_2d/function.py:404\u001b[0m, in \u001b[0;36mvalidation_sam\u001b[0;34m(args, val_loader, epoch, net, clean_dir)\u001b[0m\n\u001b[1;32m    401\u001b[0m diag_indices \u001b[38;5;241m=\u001b[39m torch\u001b[38;5;241m.\u001b[39marange(current_similarity_matrix_no_diag\u001b[38;5;241m.\u001b[39msize(\u001b[38;5;241m0\u001b[39m))\n\u001b[1;32m    402\u001b[0m current_similarity_matrix_no_diag[diag_indices, diag_indices] \u001b[38;5;241m=\u001b[39m \u001b[38;5;28mfloat\u001b[39m(\u001b[38;5;124m'\u001b[39m\u001b[38;5;124m-inf\u001b[39m\u001b[38;5;124m'\u001b[39m)\n\u001b[0;32m--> 404\u001b[0m single_key_norm \u001b[38;5;241m=\u001b[39m F\u001b[38;5;241m.\u001b[39mnormalize(\u001b[43mmaskmem_features\u001b[49m\u001b[43m[\u001b[49m\u001b[43mbatch\u001b[49m\u001b[43m]\u001b[49m\u001b[38;5;241;43m.\u001b[39;49m\u001b[43mreshape\u001b[49m\u001b[43m(\u001b[49m\u001b[38;5;241;43m-\u001b[39;49m\u001b[38;5;241;43m1\u001b[39;49m\u001b[43m)\u001b[49m, p\u001b[38;5;241m=\u001b[39m\u001b[38;5;241m2\u001b[39m, dim\u001b[38;5;241m=\u001b[39m\u001b[38;5;241m0\u001b[39m)\u001b[38;5;241m.\u001b[39munsqueeze(\u001b[38;5;241m1\u001b[39m)\n\u001b[1;32m    405\u001b[0m similarity_scores \u001b[38;5;241m=\u001b[39m torch\u001b[38;5;241m.\u001b[39mmm(memory_bank_maskmem_features_norm, single_key_norm)\u001b[38;5;241m.\u001b[39msqueeze()\n\u001b[1;32m    406\u001b[0m min_similarity_index \u001b[38;5;241m=\u001b[39m torch\u001b[38;5;241m.\u001b[39margmin(similarity_scores) \n",
      "\u001b[0;31mKeyboardInterrupt\u001b[0m: "
     ]
    }
   ],
   "source": [
    "main(default_args)"
   ]
  },
  {
   "cell_type": "code",
   "execution_count": 11,
   "metadata": {},
   "outputs": [
    {
     "name": "stdout",
     "output_type": "stream",
     "text": [
      "ls: cannot access '/hpc/mydata/saugat.kandel/sam2_projects/segment-anything-2/Medical-SAM2/data/REFUGE/': No such file or directory\n"
     ]
    }
   ],
   "source": [
    "!ls /hpc/mydata/saugat.kandel/sam2_projects/segment-anything-2/Medical-SAM2/data/REFUGE/"
   ]
  },
  {
   "cell_type": "code",
   "execution_count": null,
   "metadata": {},
   "outputs": [],
   "source": []
  }
 ],
 "metadata": {
  "kernelspec": {
   "display_name": "default",
   "language": "python",
   "name": "python3"
  },
  "language_info": {
   "codemirror_mode": {
    "name": "ipython",
    "version": 3
   },
   "file_extension": ".py",
   "mimetype": "text/x-python",
   "name": "python",
   "nbconvert_exporter": "python",
   "pygments_lexer": "ipython3",
   "version": "3.12.5"
  }
 },
 "nbformat": 4,
 "nbformat_minor": 2
}
