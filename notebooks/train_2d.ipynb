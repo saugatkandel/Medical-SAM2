{
 "cells": [
  {
   "cell_type": "code",
   "execution_count": 1,
   "metadata": {},
   "outputs": [],
   "source": [
    "import argparse\n",
    "import os\n",
    "import sys\n",
    "import time\n",
    "\n",
    "import torch\n",
    "import torch.optim as optim\n",
    "import torchvision.transforms as transforms\n",
    "from PIL import Image\n",
    "from tensorboardX import SummaryWriter\n",
    "\n",
    "# from dataset import *\n",
    "from torch.utils.data import DataLoader\n",
    "\n",
    "sys.path.append(\"../\")\n",
    "import cfg\n",
    "import func_2d.function as function\n",
    "from conf import settings\n",
    "from func_2d import utils as fn2dutils\n",
    "\n",
    "# from models.discriminatorlayer import discriminator\n",
    "from func_2d.dataset import REFUGE\n",
    "\n",
    "import matplotlib.pyplot as plt\n",
    "from pathlib import Path"
   ]
  },
  {
   "cell_type": "code",
   "execution_count": 2,
   "metadata": {},
   "outputs": [],
   "source": [
    "default_args = argparse.Namespace(\n",
    "    model_id=\"sam2\",\n",
    "    encoder=\"vit_b\",\n",
    "    exp_name=\"REFUGE_MedSAM2\",\n",
    "    vis=1,\n",
    "    prompt=\"bbox\",\n",
    "    prompt_freq=2,\n",
    "    val_freq=1,\n",
    "    gpu=True,\n",
    "    gpu_device=0,\n",
    "    image_size=1024,\n",
    "    out_size=1024,\n",
    "    distributed=\"none\",\n",
    "    dataset=\"REFUGE\",\n",
    "    data_path=\"/hpc/mydata/saugat.kandel/sam2_projects/Medical-SAM2/data/REFUGE\",\n",
    "    sam_ckpt=\"/hpc/mydata/saugat.kandel/sam2_projects/Medical-SAM2/pretrain/REFUGE_2d_pretrain.pth\",\n",
    "    sam_config=\"sam2_hiera_t\",\n",
    "    video_length=2,\n",
    "    b=16,\n",
    "    lr=1e-4,\n",
    "    weights=\"0\",\n",
    "    multimask_output=1,\n",
    "    memory_bank_size=128,\n",
    ")"
   ]
  },
  {
   "cell_type": "code",
   "execution_count": 3,
   "metadata": {},
   "outputs": [],
   "source": [
    "def main(args):\n",
    "    # use bfloat16 for the entire work\n",
    "    torch.autocast(device_type=\"cuda\", dtype=torch.bfloat16).__enter__()\n",
    "\n",
    "    if torch.cuda.get_device_properties(0).major >= 8:\n",
    "        # turn on tfloat32 for Ampere GPUs (https://pytorch.org/docs/stable/notes/cuda.html#tensorfloat-32-tf32-on-ampere-devices)\n",
    "        torch.backends.cuda.matmul.allow_tf32 = True\n",
    "        torch.backends.cudnn.allow_tf32 = True\n",
    "\n",
    "    GPUdevice = torch.device(\"cuda\", args.gpu_device)\n",
    "\n",
    "    \"\"\"load pretrained model\"\"\"\n",
    "    print(\"Loading model...\")\n",
    "    net = fn2dutils.get_network(args, gpu_device=GPUdevice)\n",
    "    print(\"Loaded model.\")\n",
    "\n",
    "    # optimisation\n",
    "    # optimizer = optim.Adam(\n",
    "    #    net.parameters(), lr=args.lr, betas=(0.9, 0.999), eps=1e-08, weight_decay=0, amsgrad=False\n",
    "    # )\n",
    "    optimizer = optim.AdamW(net.parameters(), lr=args.lr)\n",
    "    # scheduler = optim.lr_scheduler.StepLR(optimizer, step_size=10, gamma=0.5)\n",
    "\n",
    "    args.path_helper = fn2dutils.set_log_dir(\"logs\", args.exp_name)\n",
    "    logger = fn2dutils.create_logger(args.path_helper[\"log_path\"])\n",
    "    logger.info(args)\n",
    "\n",
    "    \"\"\"segmentation data\"\"\"\n",
    "    transform_train = transforms.Compose([\n",
    "        transforms.Resize((args.image_size, args.image_size)),\n",
    "        transforms.ToTensor(),\n",
    "    ])\n",
    "\n",
    "    transform_test = transforms.Compose([\n",
    "        transforms.Resize((args.image_size, args.image_size)),\n",
    "        transforms.ToTensor(),\n",
    "    ])\n",
    "\n",
    "    # example of REFUGE dataset\n",
    "    if args.dataset == \"REFUGE\":\n",
    "        \"\"\"REFUGE data\"\"\"\n",
    "        refuge_train_dataset = REFUGE(\n",
    "            args, args.data_path, transform=transform_train, mode=\"Training\"\n",
    "        )\n",
    "        refuge_test_dataset = REFUGE(args, args.data_path, transform=transform_test, mode=\"Test\")\n",
    "\n",
    "        nice_train_loader = DataLoader(\n",
    "            refuge_train_dataset, batch_size=args.b, shuffle=True, num_workers=4, pin_memory=True\n",
    "        )\n",
    "        nice_test_loader = DataLoader(\n",
    "            refuge_test_dataset, batch_size=args.b, shuffle=False, num_workers=4, pin_memory=True\n",
    "        )\n",
    "        \"\"\"end\"\"\"\n",
    "\n",
    "    \"\"\"checkpoint path and tensorboard\"\"\"\n",
    "    checkpoint_path = os.path.join(settings.CHECKPOINT_PATH, args.model_id, settings.TIME_NOW)\n",
    "    # use tensorboard\n",
    "    if not os.path.exists(settings.LOG_DIR):\n",
    "        os.mkdir(settings.LOG_DIR)\n",
    "    writer = SummaryWriter(log_dir=os.path.join(settings.LOG_DIR, args.model_id, settings.TIME_NOW))\n",
    "\n",
    "    # create checkpoint folder to save model\n",
    "    if not os.path.exists(checkpoint_path):\n",
    "        os.makedirs(checkpoint_path)\n",
    "    checkpoint_path = os.path.join(checkpoint_path, \"{net}-{epoch}-{type}.pth\")\n",
    "\n",
    "    \"\"\"begain training\"\"\"\n",
    "    best_tol = 1e4\n",
    "    best_dice = 0.0\n",
    "\n",
    "    for epoch in range(settings.EPOCH):\n",
    "        if epoch == 0:\n",
    "            tol, (eiou, edice) = function.validation_sam(args, nice_test_loader, epoch, net, writer)\n",
    "            logger.info(f\"Total score: {tol}, IOU: {eiou}, DICE: {edice} || @ epoch {epoch}.\")\n",
    "\n",
    "        # training\n",
    "        net.train()\n",
    "        time_start = time.time()\n",
    "        loss, memory_bank_list = function.train_sam(\n",
    "            args, net, optimizer, nice_train_loader, epoch, writer\n",
    "        )\n",
    "        logger.info(f\"Train loss: {loss} || @ epoch {epoch}.\")\n",
    "        time_end = time.time()\n",
    "        print(\"time_for_training \", time_end - time_start)\n",
    "\n",
    "        # validation\n",
    "        net.eval()\n",
    "        if epoch % args.val_freq == 0 or epoch == settings.EPOCH - 1:\n",
    "            tol, (eiou, edice) = function.validation_sam(\n",
    "                args, nice_test_loader, epoch, net, writer, memory_bank_list=memory_bank_list\n",
    "            )\n",
    "            logger.info(f\"Total score: {tol}, IOU: {eiou}, DICE: {edice} || @ epoch {epoch}.\")\n",
    "\n",
    "            if edice > best_dice:\n",
    "                best_dice = edice\n",
    "                torch.save(\n",
    "                    {\"model\": net.state_dict(), \"parameter\": net._parameters},\n",
    "                    os.path.join(args.path_helper[\"ckpt_path\"], \"latest_epoch.pth\"),\n",
    "                )\n",
    "                torch.save(\n",
    "                    {\"memory_bank\": memory_bank_list},\n",
    "                    os.path.join(args.path_helper[\"ckpt_path\"], \"memory_bank.pth\"),\n",
    "                )\n",
    "    writer.close()"
   ]
  },
  {
   "cell_type": "code",
   "execution_count": 4,
   "metadata": {},
   "outputs": [
    {
     "name": "stdout",
     "output_type": "stream",
     "text": [
      "Loading model...\n",
      "Building SAM2 model...\n"
     ]
    },
    {
     "name": "stderr",
     "output_type": "stream",
     "text": [
      "INFO:root:Namespace(model_id='sam2', encoder='vit_b', exp_name='REFUGE_MedSAM2', vis=1, prompt='bbox', prompt_freq=2, val_freq=1, gpu=True, gpu_device=0, image_size=1024, out_size=1024, distributed='none', dataset='REFUGE', data_path='/hpc/mydata/saugat.kandel/sam2_projects/Medical-SAM2/data/REFUGE', sam_ckpt='/hpc/mydata/saugat.kandel/sam2_projects/Medical-SAM2/pretrain/REFUGE_2d_pretrain.pth', sam_config='sam2_hiera_t', video_length=2, b=16, lr=0.0001, weights='0', multimask_output=1, memory_bank_size=128, path_helper={'prefix': 'logs/REFUGE_MedSAM2_2024_09_18_16_34_58', 'ckpt_path': 'logs/REFUGE_MedSAM2_2024_09_18_16_34_58/Model', 'log_path': 'logs/REFUGE_MedSAM2_2024_09_18_16_34_58/Log', 'sample_path': 'logs/REFUGE_MedSAM2_2024_09_18_16_34_58/Samples'})\n",
      "Namespace(model_id='sam2', encoder='vit_b', exp_name='REFUGE_MedSAM2', vis=1, prompt='bbox', prompt_freq=2, val_freq=1, gpu=True, gpu_device=0, image_size=1024, out_size=1024, distributed='none', dataset='REFUGE', data_path='/hpc/mydata/saugat.kandel/sam2_projects/Medical-SAM2/data/REFUGE', sam_ckpt='/hpc/mydata/saugat.kandel/sam2_projects/Medical-SAM2/pretrain/REFUGE_2d_pretrain.pth', sam_config='sam2_hiera_t', video_length=2, b=16, lr=0.0001, weights='0', multimask_output=1, memory_bank_size=128, path_helper={'prefix': 'logs/REFUGE_MedSAM2_2024_09_18_16_34_58', 'ckpt_path': 'logs/REFUGE_MedSAM2_2024_09_18_16_34_58/Model', 'log_path': 'logs/REFUGE_MedSAM2_2024_09_18_16_34_58/Log', 'sample_path': 'logs/REFUGE_MedSAM2_2024_09_18_16_34_58/Samples'})\n"
     ]
    },
    {
     "name": "stdout",
     "output_type": "stream",
     "text": [
      "Loaded model.\n"
     ]
    },
    {
     "name": "stderr",
     "output_type": "stream",
     "text": [
      "INFO:root:Total score: 0.10275252908468246, IOU: 0.7792519690806838, DICE: 0.8721540331840515 || @ epoch 0.\n",
      "Total score: 0.10275252908468246, IOU: 0.7792519690806838, DICE: 0.8721540331840515 || @ epoch 0.\n",
      "Epoch 0: 100%|██████████| 25/25 [00:28<00:00,  1.13s/img, loss (batch)=0.0532]\n",
      "INFO:root:Train loss: 0.05448035910725593 || @ epoch 0.\n",
      "Train loss: 0.05448035910725593 || @ epoch 0.\n"
     ]
    },
    {
     "name": "stdout",
     "output_type": "stream",
     "text": [
      "time_for_training  28.197222232818604\n"
     ]
    },
    {
     "name": "stderr",
     "output_type": "stream",
     "text": [
      "INFO:root:Total score: 0.10527532547712326, IOU: 0.7664355314637415, DICE: 0.8635700488090515 || @ epoch 0.\n",
      "Total score: 0.10527532547712326, IOU: 0.7664355314637415, DICE: 0.8635700488090515 || @ epoch 0.\n",
      "Epoch 1: 100%|██████████| 25/25 [00:29<00:00,  1.17s/img, loss (batch)=0.0614]\n",
      "INFO:root:Train loss: 0.051766805499792096 || @ epoch 1.\n",
      "Train loss: 0.051766805499792096 || @ epoch 1.\n"
     ]
    },
    {
     "name": "stdout",
     "output_type": "stream",
     "text": [
      "time_for_training  29.234567165374756\n"
     ]
    },
    {
     "name": "stderr",
     "output_type": "stream",
     "text": [
      "INFO:root:Total score: 0.1075342521071434, IOU: 0.7649245605175489, DICE: 0.8624675130844116 || @ epoch 1.\n",
      "Total score: 0.1075342521071434, IOU: 0.7649245605175489, DICE: 0.8624675130844116 || @ epoch 1.\n",
      "Epoch 2: 100%|██████████| 25/25 [00:29<00:00,  1.16s/img, loss (batch)=0.056] \n",
      "INFO:root:Train loss: 0.05200187027454376 || @ epoch 2.\n",
      "Train loss: 0.05200187027454376 || @ epoch 2.\n"
     ]
    },
    {
     "name": "stdout",
     "output_type": "stream",
     "text": [
      "time_for_training  29.06156277656555\n"
     ]
    },
    {
     "name": "stderr",
     "output_type": "stream",
     "text": [
      "INFO:root:Total score: 0.1145511344075203, IOU: 0.7539532744027059, DICE: 0.8553273582458496 || @ epoch 2.\n",
      "Total score: 0.1145511344075203, IOU: 0.7539532744027059, DICE: 0.8553273582458496 || @ epoch 2.\n",
      "Epoch 3: 100%|██████████| 25/25 [00:28<00:00,  1.12s/img, loss (batch)=0.0547]\n",
      "INFO:root:Train loss: 0.05256491035223007 || @ epoch 3.\n",
      "Train loss: 0.05256491035223007 || @ epoch 3.\n"
     ]
    },
    {
     "name": "stdout",
     "output_type": "stream",
     "text": [
      "time_for_training  28.081353425979614\n"
     ]
    },
    {
     "name": "stderr",
     "output_type": "stream",
     "text": [
      "INFO:root:Total score: 0.1167757660150528, IOU: 0.7494228793370961, DICE: 0.8516875028610229 || @ epoch 3.\n",
      "Total score: 0.1167757660150528, IOU: 0.7494228793370961, DICE: 0.8516875028610229 || @ epoch 3.\n",
      "Epoch 4: 100%|██████████| 25/25 [00:28<00:00,  1.12s/img, loss (batch)=0.0453]\n",
      "INFO:root:Train loss: 0.05193632796406746 || @ epoch 4.\n",
      "Train loss: 0.05193632796406746 || @ epoch 4.\n"
     ]
    },
    {
     "name": "stdout",
     "output_type": "stream",
     "text": [
      "time_for_training  28.133067846298218\n"
     ]
    },
    {
     "name": "stderr",
     "output_type": "stream",
     "text": [
      "INFO:root:Total score: 0.10703915357589722, IOU: 0.7671681491718152, DICE: 0.8641917848587036 || @ epoch 4.\n",
      "Total score: 0.10703915357589722, IOU: 0.7671681491718152, DICE: 0.8641917848587036 || @ epoch 4.\n",
      "Epoch 5: 100%|██████████| 25/25 [00:28<00:00,  1.15s/img, loss (batch)=0.0556]\n",
      "INFO:root:Train loss: 0.05105277493596077 || @ epoch 5.\n",
      "Train loss: 0.05105277493596077 || @ epoch 5.\n"
     ]
    },
    {
     "name": "stdout",
     "output_type": "stream",
     "text": [
      "time_for_training  28.77336287498474\n"
     ]
    },
    {
     "name": "stderr",
     "output_type": "stream",
     "text": [
      "INFO:root:Total score: 0.10453711450099945, IOU: 0.7687415422187189, DICE: 0.8652572417259217 || @ epoch 5.\n",
      "Total score: 0.10453711450099945, IOU: 0.7687415422187189, DICE: 0.8652572417259217 || @ epoch 5.\n",
      "Epoch 6: 100%|██████████| 25/25 [00:28<00:00,  1.12s/img, loss (batch)=0.0507]\n",
      "INFO:root:Train loss: 0.05041231721639633 || @ epoch 6.\n",
      "Train loss: 0.05041231721639633 || @ epoch 6.\n"
     ]
    },
    {
     "name": "stdout",
     "output_type": "stream",
     "text": [
      "time_for_training  28.0407555103302\n"
     ]
    },
    {
     "name": "stderr",
     "output_type": "stream",
     "text": [
      "INFO:root:Total score: 0.11858572065830231, IOU: 0.748503271907802, DICE: 0.8515040016174317 || @ epoch 6.\n",
      "Total score: 0.11858572065830231, IOU: 0.748503271907802, DICE: 0.8515040016174317 || @ epoch 6.\n",
      "Epoch 7: 100%|██████████| 25/25 [00:28<00:00,  1.14s/img, loss (batch)=0.0479]\n",
      "INFO:root:Train loss: 0.050452931225299834 || @ epoch 7.\n",
      "Train loss: 0.050452931225299834 || @ epoch 7.\n"
     ]
    },
    {
     "name": "stdout",
     "output_type": "stream",
     "text": [
      "time_for_training  28.403948545455933\n"
     ]
    },
    {
     "name": "stderr",
     "output_type": "stream",
     "text": [
      "INFO:root:Total score: 0.1119609922170639, IOU: 0.7587341701718264, DICE: 0.8585310506820679 || @ epoch 7.\n",
      "Total score: 0.1119609922170639, IOU: 0.7587341701718264, DICE: 0.8585310506820679 || @ epoch 7.\n",
      "Epoch 8: 100%|██████████| 25/25 [00:28<00:00,  1.15s/img, loss (batch)=0.05]  \n",
      "INFO:root:Train loss: 0.050695063173770906 || @ epoch 8.\n",
      "Train loss: 0.050695063173770906 || @ epoch 8.\n"
     ]
    },
    {
     "name": "stdout",
     "output_type": "stream",
     "text": [
      "time_for_training  28.693838357925415\n"
     ]
    },
    {
     "name": "stderr",
     "output_type": "stream",
     "text": [
      "INFO:root:Total score: 0.11719442903995514, IOU: 0.7491245215769244, DICE: 0.8516827940940856 || @ epoch 8.\n",
      "Total score: 0.11719442903995514, IOU: 0.7491245215769244, DICE: 0.8516827940940856 || @ epoch 8.\n",
      "Epoch 9: 100%|██████████| 25/25 [00:27<00:00,  1.11s/img, loss (batch)=0.0536]\n",
      "INFO:root:Train loss: 0.05113140270113945 || @ epoch 9.\n",
      "Train loss: 0.05113140270113945 || @ epoch 9.\n"
     ]
    },
    {
     "name": "stdout",
     "output_type": "stream",
     "text": [
      "time_for_training  27.763796091079712\n"
     ]
    },
    {
     "name": "stderr",
     "output_type": "stream",
     "text": [
      "INFO:root:Total score: 0.11913201957941055, IOU: 0.7458490770885808, DICE: 0.8497766184806824 || @ epoch 9.\n",
      "Total score: 0.11913201957941055, IOU: 0.7458490770885808, DICE: 0.8497766184806824 || @ epoch 9.\n",
      "Epoch 10: 100%|██████████| 25/25 [00:28<00:00,  1.13s/img, loss (batch)=0.0516]\n",
      "INFO:root:Train loss: 0.04982099205255509 || @ epoch 10.\n",
      "Train loss: 0.04982099205255509 || @ epoch 10.\n"
     ]
    },
    {
     "name": "stdout",
     "output_type": "stream",
     "text": [
      "time_for_training  28.348881721496582\n"
     ]
    },
    {
     "name": "stderr",
     "output_type": "stream",
     "text": [
      "INFO:root:Total score: 0.12136207520961761, IOU: 0.7420110014764115, DICE: 0.846978108882904 || @ epoch 10.\n",
      "Total score: 0.12136207520961761, IOU: 0.7420110014764115, DICE: 0.846978108882904 || @ epoch 10.\n",
      "Epoch 11: 100%|██████████| 25/25 [00:28<00:00,  1.14s/img, loss (batch)=0.0476]\n",
      "INFO:root:Train loss: 0.049899988770484925 || @ epoch 11.\n",
      "Train loss: 0.049899988770484925 || @ epoch 11.\n"
     ]
    },
    {
     "name": "stdout",
     "output_type": "stream",
     "text": [
      "time_for_training  28.541679620742798\n"
     ]
    },
    {
     "name": "stderr",
     "output_type": "stream",
     "text": [
      "INFO:root:Total score: 0.12432821094989777, IOU: 0.7370439914683439, DICE: 0.8430633544921875 || @ epoch 11.\n",
      "Total score: 0.12432821094989777, IOU: 0.7370439914683439, DICE: 0.8430633544921875 || @ epoch 11.\n",
      "Epoch 12: 100%|██████████| 25/25 [00:28<00:00,  1.14s/img, loss (batch)=0.0467]\n",
      "INFO:root:Train loss: 0.05054264903068542 || @ epoch 12.\n",
      "Train loss: 0.05054264903068542 || @ epoch 12.\n"
     ]
    },
    {
     "name": "stdout",
     "output_type": "stream",
     "text": [
      "time_for_training  28.551145553588867\n"
     ]
    },
    {
     "name": "stderr",
     "output_type": "stream",
     "text": [
      "INFO:root:Total score: 0.11901484429836273, IOU: 0.7509399042778199, DICE: 0.8528882932662963 || @ epoch 12.\n",
      "Total score: 0.11901484429836273, IOU: 0.7509399042778199, DICE: 0.8528882932662963 || @ epoch 12.\n",
      "Epoch 13: 100%|██████████| 25/25 [00:28<00:00,  1.14s/img, loss (batch)=0.0483]\n",
      "INFO:root:Train loss: 0.050555548667907714 || @ epoch 13.\n",
      "Train loss: 0.050555548667907714 || @ epoch 13.\n"
     ]
    },
    {
     "name": "stdout",
     "output_type": "stream",
     "text": [
      "time_for_training  28.624690055847168\n"
     ]
    },
    {
     "name": "stderr",
     "output_type": "stream",
     "text": [
      "INFO:root:Total score: 0.11395672708749771, IOU: 0.754718532302895, DICE: 0.8557042837142944 || @ epoch 13.\n",
      "Total score: 0.11395672708749771, IOU: 0.754718532302895, DICE: 0.8557042837142944 || @ epoch 13.\n",
      "Epoch 14: 100%|██████████| 25/25 [00:28<00:00,  1.15s/img, loss (batch)=0.046] \n",
      "INFO:root:Train loss: 0.0496833436191082 || @ epoch 14.\n",
      "Train loss: 0.0496833436191082 || @ epoch 14.\n"
     ]
    },
    {
     "name": "stdout",
     "output_type": "stream",
     "text": [
      "time_for_training  28.70474410057068\n"
     ]
    },
    {
     "name": "stderr",
     "output_type": "stream",
     "text": [
      "INFO:root:Total score: 0.11546715348958969, IOU: 0.7540453961262631, DICE: 0.8549516844749451 || @ epoch 14.\n",
      "Total score: 0.11546715348958969, IOU: 0.7540453961262631, DICE: 0.8549516844749451 || @ epoch 14.\n",
      "Epoch 15: 100%|██████████| 25/25 [00:28<00:00,  1.14s/img, loss (batch)=0.0448]\n",
      "INFO:root:Train loss: 0.049339955002069474 || @ epoch 15.\n",
      "Train loss: 0.049339955002069474 || @ epoch 15.\n"
     ]
    },
    {
     "name": "stdout",
     "output_type": "stream",
     "text": [
      "time_for_training  28.477646112442017\n"
     ]
    },
    {
     "name": "stderr",
     "output_type": "stream",
     "text": [
      "INFO:root:Total score: 0.12184645980596542, IOU: 0.7442170332068322, DICE: 0.84829017162323 || @ epoch 15.\n",
      "Total score: 0.12184645980596542, IOU: 0.7442170332068322, DICE: 0.84829017162323 || @ epoch 15.\n",
      "Epoch 16: 100%|██████████| 25/25 [00:28<00:00,  1.13s/img, loss (batch)=0.0466]\n",
      "INFO:root:Train loss: 0.050476325452327726 || @ epoch 16.\n",
      "Train loss: 0.050476325452327726 || @ epoch 16.\n"
     ]
    },
    {
     "name": "stdout",
     "output_type": "stream",
     "text": [
      "time_for_training  28.270193815231323\n"
     ]
    },
    {
     "name": "stderr",
     "output_type": "stream",
     "text": [
      "INFO:root:Total score: 0.12955698370933533, IOU: 0.7297202413817534, DICE: 0.8380065274238586 || @ epoch 16.\n",
      "Total score: 0.12955698370933533, IOU: 0.7297202413817534, DICE: 0.8380065274238586 || @ epoch 16.\n",
      "Epoch 17: 100%|██████████| 25/25 [00:28<00:00,  1.14s/img, loss (batch)=0.0481]\n",
      "INFO:root:Train loss: 0.049639108777046206 || @ epoch 17.\n",
      "Train loss: 0.049639108777046206 || @ epoch 17.\n"
     ]
    },
    {
     "name": "stdout",
     "output_type": "stream",
     "text": [
      "time_for_training  28.578012704849243\n"
     ]
    },
    {
     "name": "stderr",
     "output_type": "stream",
     "text": [
      "INFO:root:Total score: 0.12932302057743073, IOU: 0.7358786271500958, DICE: 0.8425063300132751 || @ epoch 17.\n",
      "Total score: 0.12932302057743073, IOU: 0.7358786271500958, DICE: 0.8425063300132751 || @ epoch 17.\n",
      "Epoch 18: 100%|██████████| 25/25 [00:28<00:00,  1.13s/img, loss (batch)=0.0463]\n",
      "INFO:root:Train loss: 0.04958237111568451 || @ epoch 18.\n",
      "Train loss: 0.04958237111568451 || @ epoch 18.\n"
     ]
    },
    {
     "name": "stdout",
     "output_type": "stream",
     "text": [
      "time_for_training  28.175042629241943\n"
     ]
    },
    {
     "name": "stderr",
     "output_type": "stream",
     "text": [
      "INFO:root:Total score: 0.1208091601729393, IOU: 0.7451315275231012, DICE: 0.8489569401741028 || @ epoch 18.\n",
      "Total score: 0.1208091601729393, IOU: 0.7451315275231012, DICE: 0.8489569401741028 || @ epoch 18.\n",
      "Epoch 19: 100%|██████████| 25/25 [00:29<00:00,  1.16s/img, loss (batch)=0.0423]\n",
      "INFO:root:Train loss: 0.049079791158437726 || @ epoch 19.\n",
      "Train loss: 0.049079791158437726 || @ epoch 19.\n"
     ]
    },
    {
     "name": "stdout",
     "output_type": "stream",
     "text": [
      "time_for_training  29.07665991783142\n"
     ]
    },
    {
     "name": "stderr",
     "output_type": "stream",
     "text": [
      "INFO:root:Total score: 0.12463901191949844, IOU: 0.7415901744209086, DICE: 0.846389479637146 || @ epoch 19.\n",
      "Total score: 0.12463901191949844, IOU: 0.7415901744209086, DICE: 0.846389479637146 || @ epoch 19.\n",
      "Epoch 20: 100%|██████████| 25/25 [00:28<00:00,  1.13s/img, loss (batch)=0.0495]\n",
      "INFO:root:Train loss: 0.049038621187210085 || @ epoch 20.\n",
      "Train loss: 0.049038621187210085 || @ epoch 20.\n"
     ]
    },
    {
     "name": "stdout",
     "output_type": "stream",
     "text": [
      "time_for_training  28.35332202911377\n"
     ]
    },
    {
     "name": "stderr",
     "output_type": "stream",
     "text": [
      "INFO:root:Total score: 0.11687275767326355, IOU: 0.7519834561996703, DICE: 0.8534573984146118 || @ epoch 20.\n",
      "Total score: 0.11687275767326355, IOU: 0.7519834561996703, DICE: 0.8534573984146118 || @ epoch 20.\n",
      "Epoch 21: 100%|██████████| 25/25 [00:28<00:00,  1.14s/img, loss (batch)=0.0508]\n",
      "INFO:root:Train loss: 0.0487617090344429 || @ epoch 21.\n",
      "Train loss: 0.0487617090344429 || @ epoch 21.\n"
     ]
    },
    {
     "name": "stdout",
     "output_type": "stream",
     "text": [
      "time_for_training  28.420037031173706\n"
     ]
    },
    {
     "name": "stderr",
     "output_type": "stream",
     "text": [
      "INFO:root:Total score: 0.11875800788402557, IOU: 0.7522645071422599, DICE: 0.8535710549354554 || @ epoch 21.\n",
      "Total score: 0.11875800788402557, IOU: 0.7522645071422599, DICE: 0.8535710549354554 || @ epoch 21.\n",
      "Epoch 22: 100%|██████████| 25/25 [00:30<00:00,  1.23s/img, loss (batch)=0.0451]\n",
      "INFO:root:Train loss: 0.04901152402162552 || @ epoch 22.\n",
      "Train loss: 0.04901152402162552 || @ epoch 22.\n"
     ]
    },
    {
     "name": "stdout",
     "output_type": "stream",
     "text": [
      "time_for_training  30.85201597213745\n"
     ]
    },
    {
     "name": "stderr",
     "output_type": "stream",
     "text": [
      "INFO:root:Total score: 0.1179714947938919, IOU: 0.7499038122740249, DICE: 0.8520875406265259 || @ epoch 22.\n",
      "Total score: 0.1179714947938919, IOU: 0.7499038122740249, DICE: 0.8520875406265259 || @ epoch 22.\n",
      "Epoch 23: 100%|██████████| 25/25 [00:28<00:00,  1.13s/img, loss (batch)=0.0484]\n",
      "INFO:root:Train loss: 0.04933204457163811 || @ epoch 23.\n",
      "Train loss: 0.04933204457163811 || @ epoch 23.\n"
     ]
    },
    {
     "name": "stdout",
     "output_type": "stream",
     "text": [
      "time_for_training  28.204927921295166\n"
     ]
    },
    {
     "name": "stderr",
     "output_type": "stream",
     "text": [
      "INFO:root:Total score: 0.1164020523428917, IOU: 0.7530477488889867, DICE: 0.8542594385147094 || @ epoch 23.\n",
      "Total score: 0.1164020523428917, IOU: 0.7530477488889867, DICE: 0.8542594385147094 || @ epoch 23.\n",
      "Epoch 24: 100%|██████████| 25/25 [00:27<00:00,  1.11s/img, loss (batch)=0.0515]\n",
      "INFO:root:Train loss: 0.04929383933544159 || @ epoch 24.\n",
      "Train loss: 0.04929383933544159 || @ epoch 24.\n"
     ]
    },
    {
     "name": "stdout",
     "output_type": "stream",
     "text": [
      "time_for_training  27.75470280647278\n"
     ]
    },
    {
     "name": "stderr",
     "output_type": "stream",
     "text": [
      "INFO:root:Total score: 0.13683655858039856, IOU: 0.7256810236107408, DICE: 0.8350876212120056 || @ epoch 24.\n",
      "Total score: 0.13683655858039856, IOU: 0.7256810236107408, DICE: 0.8350876212120056 || @ epoch 24.\n",
      "Epoch 25: 100%|██████████| 25/25 [00:28<00:00,  1.13s/img, loss (batch)=0.044] \n",
      "INFO:root:Train loss: 0.048553463518619534 || @ epoch 25.\n",
      "Train loss: 0.048553463518619534 || @ epoch 25.\n"
     ]
    },
    {
     "name": "stdout",
     "output_type": "stream",
     "text": [
      "time_for_training  28.32812523841858\n"
     ]
    },
    {
     "name": "stderr",
     "output_type": "stream",
     "text": [
      "INFO:root:Total score: 0.11946096271276474, IOU: 0.748438769064579, DICE: 0.8507793021202087 || @ epoch 25.\n",
      "Total score: 0.11946096271276474, IOU: 0.748438769064579, DICE: 0.8507793021202087 || @ epoch 25.\n",
      "Epoch 26: 100%|██████████| 25/25 [00:28<00:00,  1.15s/img, loss (batch)=0.0494]\n",
      "INFO:root:Train loss: 0.0473712357878685 || @ epoch 26.\n",
      "Train loss: 0.0473712357878685 || @ epoch 26.\n"
     ]
    },
    {
     "name": "stdout",
     "output_type": "stream",
     "text": [
      "time_for_training  28.71923327445984\n"
     ]
    },
    {
     "name": "stderr",
     "output_type": "stream",
     "text": [
      "INFO:root:Total score: 0.12505069375038147, IOU: 0.7442864895283537, DICE: 0.8478789472579956 || @ epoch 26.\n",
      "Total score: 0.12505069375038147, IOU: 0.7442864895283537, DICE: 0.8478789472579956 || @ epoch 26.\n",
      "Epoch 27: 100%|██████████| 25/25 [00:28<00:00,  1.13s/img, loss (batch)=0.0458]\n",
      "INFO:root:Train loss: 0.048177317827939985 || @ epoch 27.\n",
      "Train loss: 0.048177317827939985 || @ epoch 27.\n"
     ]
    },
    {
     "name": "stdout",
     "output_type": "stream",
     "text": [
      "time_for_training  28.36810827255249\n"
     ]
    },
    {
     "name": "stderr",
     "output_type": "stream",
     "text": [
      "INFO:root:Total score: 0.1258029341697693, IOU: 0.7407406022133367, DICE: 0.845923969745636 || @ epoch 27.\n",
      "Total score: 0.1258029341697693, IOU: 0.7407406022133367, DICE: 0.845923969745636 || @ epoch 27.\n",
      "Epoch 28: 100%|██████████| 25/25 [00:28<00:00,  1.14s/img, loss (batch)=0.0459]\n",
      "INFO:root:Train loss: 0.0494638092815876 || @ epoch 28.\n",
      "Train loss: 0.0494638092815876 || @ epoch 28.\n"
     ]
    },
    {
     "name": "stdout",
     "output_type": "stream",
     "text": [
      "time_for_training  28.43895673751831\n"
     ]
    },
    {
     "name": "stderr",
     "output_type": "stream",
     "text": [
      "INFO:root:Total score: 0.12374641001224518, IOU: 0.7413076741120119, DICE: 0.8466164755821228 || @ epoch 28.\n",
      "Total score: 0.12374641001224518, IOU: 0.7413076741120119, DICE: 0.8466164755821228 || @ epoch 28.\n",
      "Epoch 29: 100%|██████████| 25/25 [00:28<00:00,  1.14s/img, loss (batch)=0.0525]\n",
      "INFO:root:Train loss: 0.049536542892456056 || @ epoch 29.\n",
      "Train loss: 0.049536542892456056 || @ epoch 29.\n"
     ]
    },
    {
     "name": "stdout",
     "output_type": "stream",
     "text": [
      "time_for_training  28.597147703170776\n"
     ]
    },
    {
     "name": "stderr",
     "output_type": "stream",
     "text": [
      "INFO:root:Total score: 0.1180470883846283, IOU: 0.7517144685721484, DICE: 0.8536881160736084 || @ epoch 29.\n",
      "Total score: 0.1180470883846283, IOU: 0.7517144685721484, DICE: 0.8536881160736084 || @ epoch 29.\n",
      "Epoch 30: 100%|██████████| 25/25 [00:28<00:00,  1.12s/img, loss (batch)=0.0544]\n",
      "INFO:root:Train loss: 0.04938882440328598 || @ epoch 30.\n",
      "Train loss: 0.04938882440328598 || @ epoch 30.\n"
     ]
    },
    {
     "name": "stdout",
     "output_type": "stream",
     "text": [
      "time_for_training  28.09749174118042\n"
     ]
    },
    {
     "name": "stderr",
     "output_type": "stream",
     "text": [
      "INFO:root:Total score: 0.11827649176120758, IOU: 0.7525690279431143, DICE: 0.8538879060745239 || @ epoch 30.\n",
      "Total score: 0.11827649176120758, IOU: 0.7525690279431143, DICE: 0.8538879060745239 || @ epoch 30.\n",
      "Epoch 31: 100%|██████████| 25/25 [00:28<00:00,  1.13s/img, loss (batch)=0.047] \n",
      "INFO:root:Train loss: 0.04844664677977562 || @ epoch 31.\n",
      "Train loss: 0.04844664677977562 || @ epoch 31.\n"
     ]
    },
    {
     "name": "stdout",
     "output_type": "stream",
     "text": [
      "time_for_training  28.27588176727295\n"
     ]
    },
    {
     "name": "stderr",
     "output_type": "stream",
     "text": [
      "INFO:root:Total score: 0.1282983124256134, IOU: 0.7374599590808353, DICE: 0.8435060095787048 || @ epoch 31.\n",
      "Total score: 0.1282983124256134, IOU: 0.7374599590808353, DICE: 0.8435060095787048 || @ epoch 31.\n",
      "Epoch 32: 100%|██████████| 25/25 [00:28<00:00,  1.13s/img, loss (batch)=0.0409]\n",
      "INFO:root:Train loss: 0.04863302066922188 || @ epoch 32.\n",
      "Train loss: 0.04863302066922188 || @ epoch 32.\n"
     ]
    },
    {
     "name": "stdout",
     "output_type": "stream",
     "text": [
      "time_for_training  28.258654832839966\n"
     ]
    },
    {
     "name": "stderr",
     "output_type": "stream",
     "text": [
      "INFO:root:Total score: 0.11945068836212158, IOU: 0.7540161510132668, DICE: 0.855400664806366 || @ epoch 32.\n",
      "Total score: 0.11945068836212158, IOU: 0.7540161510132668, DICE: 0.855400664806366 || @ epoch 32.\n",
      "Epoch 33: 100%|██████████| 25/25 [00:28<00:00,  1.13s/img, loss (batch)=0.0436]\n",
      "INFO:root:Train loss: 0.047053232640028 || @ epoch 33.\n",
      "Train loss: 0.047053232640028 || @ epoch 33.\n"
     ]
    },
    {
     "name": "stdout",
     "output_type": "stream",
     "text": [
      "time_for_training  28.239063262939453\n"
     ]
    },
    {
     "name": "stderr",
     "output_type": "stream",
     "text": [
      "INFO:root:Total score: 0.12467338889837265, IOU: 0.7442671450272578, DICE: 0.8483671975135804 || @ epoch 33.\n",
      "Total score: 0.12467338889837265, IOU: 0.7442671450272578, DICE: 0.8483671975135804 || @ epoch 33.\n",
      "Epoch 34: 100%|██████████| 25/25 [00:28<00:00,  1.15s/img, loss (batch)=0.0518]\n",
      "INFO:root:Train loss: 0.04736004188656807 || @ epoch 34.\n",
      "Train loss: 0.04736004188656807 || @ epoch 34.\n"
     ]
    },
    {
     "name": "stdout",
     "output_type": "stream",
     "text": [
      "time_for_training  28.89107918739319\n"
     ]
    },
    {
     "name": "stderr",
     "output_type": "stream",
     "text": [
      "INFO:root:Total score: 0.11724123358726501, IOU: 0.7568491699853869, DICE: 0.8569364476203919 || @ epoch 34.\n",
      "Total score: 0.11724123358726501, IOU: 0.7568491699853869, DICE: 0.8569364476203919 || @ epoch 34.\n",
      "Epoch 35: 100%|██████████| 25/25 [00:28<00:00,  1.14s/img, loss (batch)=0.0456]\n",
      "INFO:root:Train loss: 0.046594962775707245 || @ epoch 35.\n",
      "Train loss: 0.046594962775707245 || @ epoch 35.\n"
     ]
    },
    {
     "name": "stdout",
     "output_type": "stream",
     "text": [
      "time_for_training  28.630900382995605\n"
     ]
    },
    {
     "name": "stderr",
     "output_type": "stream",
     "text": [
      "INFO:root:Total score: 0.1236419826745987, IOU: 0.7490905246505603, DICE: 0.851821072101593 || @ epoch 35.\n",
      "Total score: 0.1236419826745987, IOU: 0.7490905246505603, DICE: 0.851821072101593 || @ epoch 35.\n",
      "Epoch 36: 100%|██████████| 25/25 [00:28<00:00,  1.14s/img, loss (batch)=0.047] \n",
      "INFO:root:Train loss: 0.04681268692016602 || @ epoch 36.\n",
      "Train loss: 0.04681268692016602 || @ epoch 36.\n"
     ]
    },
    {
     "name": "stdout",
     "output_type": "stream",
     "text": [
      "time_for_training  28.49276375770569\n"
     ]
    },
    {
     "name": "stderr",
     "output_type": "stream",
     "text": [
      "INFO:root:Total score: 0.13134373724460602, IOU: 0.7359680014984362, DICE: 0.8421761989593506 || @ epoch 36.\n",
      "Total score: 0.13134373724460602, IOU: 0.7359680014984362, DICE: 0.8421761989593506 || @ epoch 36.\n",
      "Epoch 37: 100%|██████████| 25/25 [00:29<00:00,  1.16s/img, loss (batch)=0.0375]\n",
      "INFO:root:Train loss: 0.04648188531398773 || @ epoch 37.\n",
      "Train loss: 0.04648188531398773 || @ epoch 37.\n"
     ]
    },
    {
     "name": "stdout",
     "output_type": "stream",
     "text": [
      "time_for_training  29.09719443321228\n"
     ]
    },
    {
     "name": "stderr",
     "output_type": "stream",
     "text": [
      "INFO:root:Total score: 0.12124313414096832, IOU: 0.7477360626938254, DICE: 0.851050238609314 || @ epoch 37.\n",
      "Total score: 0.12124313414096832, IOU: 0.7477360626938254, DICE: 0.851050238609314 || @ epoch 37.\n",
      "Epoch 38: 100%|██████████| 25/25 [00:28<00:00,  1.15s/img, loss (batch)=0.0451]\n",
      "INFO:root:Train loss: 0.04637379512190819 || @ epoch 38.\n",
      "Train loss: 0.04637379512190819 || @ epoch 38.\n"
     ]
    },
    {
     "name": "stdout",
     "output_type": "stream",
     "text": [
      "time_for_training  28.87805700302124\n"
     ]
    },
    {
     "name": "stderr",
     "output_type": "stream",
     "text": [
      "INFO:root:Total score: 0.11993180215358734, IOU: 0.755738749460456, DICE: 0.8558150935173034 || @ epoch 38.\n",
      "Total score: 0.11993180215358734, IOU: 0.755738749460456, DICE: 0.8558150935173034 || @ epoch 38.\n",
      "Epoch 39: 100%|██████████| 25/25 [00:29<00:00,  1.17s/img, loss (batch)=0.0477]\n",
      "INFO:root:Train loss: 0.04676429957151413 || @ epoch 39.\n",
      "Train loss: 0.04676429957151413 || @ epoch 39.\n"
     ]
    },
    {
     "name": "stdout",
     "output_type": "stream",
     "text": [
      "time_for_training  29.178970336914062\n"
     ]
    },
    {
     "name": "stderr",
     "output_type": "stream",
     "text": [
      "INFO:root:Total score: 0.1323566734790802, IOU: 0.7356103635617488, DICE: 0.8419220352172851 || @ epoch 39.\n",
      "Total score: 0.1323566734790802, IOU: 0.7356103635617488, DICE: 0.8419220352172851 || @ epoch 39.\n",
      "Epoch 40: 100%|██████████| 25/25 [00:30<00:00,  1.24s/img, loss (batch)=0.044] \n",
      "INFO:root:Train loss: 0.04624731332063675 || @ epoch 40.\n",
      "Train loss: 0.04624731332063675 || @ epoch 40.\n"
     ]
    },
    {
     "name": "stdout",
     "output_type": "stream",
     "text": [
      "time_for_training  30.949649810791016\n"
     ]
    },
    {
     "name": "stderr",
     "output_type": "stream",
     "text": [
      "INFO:root:Total score: 0.11563009768724442, IOU: 0.7637546017313714, DICE: 0.8619769406318665 || @ epoch 40.\n",
      "Total score: 0.11563009768724442, IOU: 0.7637546017313714, DICE: 0.8619769406318665 || @ epoch 40.\n",
      "Epoch 41: 100%|██████████| 25/25 [00:32<00:00,  1.29s/img, loss (batch)=0.0515]\n",
      "INFO:root:Train loss: 0.046780964732170104 || @ epoch 41.\n",
      "Train loss: 0.046780964732170104 || @ epoch 41.\n"
     ]
    },
    {
     "name": "stdout",
     "output_type": "stream",
     "text": [
      "time_for_training  32.19456768035889\n"
     ]
    },
    {
     "name": "stderr",
     "output_type": "stream",
     "text": [
      "INFO:root:Total score: 0.126848042011261, IOU: 0.7421434498117959, DICE: 0.8467937421798706 || @ epoch 41.\n",
      "Total score: 0.126848042011261, IOU: 0.7421434498117959, DICE: 0.8467937421798706 || @ epoch 41.\n",
      "Epoch 42: 100%|██████████| 25/25 [00:31<00:00,  1.27s/img, loss (batch)=0.0418]\n",
      "INFO:root:Train loss: 0.045976944267749786 || @ epoch 42.\n",
      "Train loss: 0.045976944267749786 || @ epoch 42.\n"
     ]
    },
    {
     "name": "stdout",
     "output_type": "stream",
     "text": [
      "time_for_training  31.658595323562622\n"
     ]
    },
    {
     "name": "stderr",
     "output_type": "stream",
     "text": [
      "INFO:root:Total score: 0.1261080503463745, IOU: 0.7419066931687834, DICE: 0.8467154693603516 || @ epoch 42.\n",
      "Total score: 0.1261080503463745, IOU: 0.7419066931687834, DICE: 0.8467154693603516 || @ epoch 42.\n",
      "Epoch 43: 100%|██████████| 25/25 [00:31<00:00,  1.25s/img, loss (batch)=0.0456]\n",
      "INFO:root:Train loss: 0.04566303864121437 || @ epoch 43.\n",
      "Train loss: 0.04566303864121437 || @ epoch 43.\n"
     ]
    },
    {
     "name": "stdout",
     "output_type": "stream",
     "text": [
      "time_for_training  31.366536140441895\n"
     ]
    },
    {
     "name": "stderr",
     "output_type": "stream",
     "text": [
      "INFO:root:Total score: 0.12256930768489838, IOU: 0.7532188662158645, DICE: 0.8542694211006164 || @ epoch 43.\n",
      "Total score: 0.12256930768489838, IOU: 0.7532188662158645, DICE: 0.8542694211006164 || @ epoch 43.\n",
      "Epoch 44: 100%|██████████| 25/25 [00:31<00:00,  1.27s/img, loss (batch)=0.0467]\n",
      "INFO:root:Train loss: 0.044777418822050094 || @ epoch 44.\n",
      "Train loss: 0.044777418822050094 || @ epoch 44.\n"
     ]
    },
    {
     "name": "stdout",
     "output_type": "stream",
     "text": [
      "time_for_training  31.800068616867065\n"
     ]
    },
    {
     "name": "stderr",
     "output_type": "stream",
     "text": [
      "INFO:root:Total score: 0.12471207231283188, IOU: 0.747989521968043, DICE: 0.850578031539917 || @ epoch 44.\n",
      "Total score: 0.12471207231283188, IOU: 0.747989521968043, DICE: 0.850578031539917 || @ epoch 44.\n",
      "Epoch 45: 100%|██████████| 25/25 [00:31<00:00,  1.27s/img, loss (batch)=0.0458]\n",
      "INFO:root:Train loss: 0.04577587127685547 || @ epoch 45.\n",
      "Train loss: 0.04577587127685547 || @ epoch 45.\n"
     ]
    },
    {
     "name": "stdout",
     "output_type": "stream",
     "text": [
      "time_for_training  31.775108575820923\n"
     ]
    },
    {
     "name": "stderr",
     "output_type": "stream",
     "text": [
      "INFO:root:Total score: 0.1279984414577484, IOU: 0.7458627899064942, DICE: 0.8492306971549988 || @ epoch 45.\n",
      "Total score: 0.1279984414577484, IOU: 0.7458627899064942, DICE: 0.8492306971549988 || @ epoch 45.\n",
      "Epoch 46: 100%|██████████| 25/25 [00:32<00:00,  1.32s/img, loss (batch)=0.0428]\n",
      "INFO:root:Train loss: 0.04600601956248283 || @ epoch 46.\n",
      "Train loss: 0.04600601956248283 || @ epoch 46.\n"
     ]
    },
    {
     "name": "stdout",
     "output_type": "stream",
     "text": [
      "time_for_training  33.02167844772339\n"
     ]
    },
    {
     "name": "stderr",
     "output_type": "stream",
     "text": [
      "INFO:root:Total score: 0.12598851323127747, IOU: 0.7458461901638216, DICE: 0.849642527103424 || @ epoch 46.\n",
      "Total score: 0.12598851323127747, IOU: 0.7458461901638216, DICE: 0.849642527103424 || @ epoch 46.\n",
      "Epoch 47: 100%|██████████| 25/25 [00:32<00:00,  1.29s/img, loss (batch)=0.0553]\n",
      "INFO:root:Train loss: 0.04650202557444572 || @ epoch 47.\n",
      "Train loss: 0.04650202557444572 || @ epoch 47.\n"
     ]
    },
    {
     "name": "stdout",
     "output_type": "stream",
     "text": [
      "time_for_training  32.16107773780823\n"
     ]
    },
    {
     "name": "stderr",
     "output_type": "stream",
     "text": [
      "INFO:root:Total score: 0.13872353732585907, IOU: 0.731692457963359, DICE: 0.8396999096870422 || @ epoch 47.\n",
      "Total score: 0.13872353732585907, IOU: 0.731692457963359, DICE: 0.8396999096870422 || @ epoch 47.\n",
      "Epoch 48: 100%|██████████| 25/25 [00:31<00:00,  1.27s/img, loss (batch)=0.0492]\n",
      "INFO:root:Train loss: 0.046130061596632 || @ epoch 48.\n",
      "Train loss: 0.046130061596632 || @ epoch 48.\n"
     ]
    },
    {
     "name": "stdout",
     "output_type": "stream",
     "text": [
      "time_for_training  31.647357940673828\n"
     ]
    },
    {
     "name": "stderr",
     "output_type": "stream",
     "text": [
      "INFO:root:Total score: 0.12826907634735107, IOU: 0.7557689800770179, DICE: 0.8560907721519471 || @ epoch 48.\n",
      "Total score: 0.12826907634735107, IOU: 0.7557689800770179, DICE: 0.8560907721519471 || @ epoch 48.\n",
      "Epoch 49: 100%|██████████| 25/25 [00:32<00:00,  1.29s/img, loss (batch)=0.0418]\n",
      "INFO:root:Train loss: 0.045722811222076415 || @ epoch 49.\n",
      "Train loss: 0.045722811222076415 || @ epoch 49.\n"
     ]
    },
    {
     "name": "stdout",
     "output_type": "stream",
     "text": [
      "time_for_training  32.28188109397888\n"
     ]
    },
    {
     "name": "stderr",
     "output_type": "stream",
     "text": [
      "INFO:root:Total score: 0.1230320930480957, IOU: 0.7521674093943413, DICE: 0.8534442520141602 || @ epoch 49.\n",
      "Total score: 0.1230320930480957, IOU: 0.7521674093943413, DICE: 0.8534442520141602 || @ epoch 49.\n",
      "Epoch 50: 100%|██████████| 25/25 [00:31<00:00,  1.27s/img, loss (batch)=0.0423]\n",
      "INFO:root:Train loss: 0.0453253236413002 || @ epoch 50.\n",
      "Train loss: 0.0453253236413002 || @ epoch 50.\n"
     ]
    },
    {
     "name": "stdout",
     "output_type": "stream",
     "text": [
      "time_for_training  31.768921613693237\n"
     ]
    },
    {
     "name": "stderr",
     "output_type": "stream",
     "text": [
      "INFO:root:Total score: 0.13216812908649445, IOU: 0.7400026783560218, DICE: 0.8455217504501342 || @ epoch 50.\n",
      "Total score: 0.13216812908649445, IOU: 0.7400026783560218, DICE: 0.8455217504501342 || @ epoch 50.\n",
      "Epoch 51: 100%|██████████| 25/25 [00:31<00:00,  1.26s/img, loss (batch)=0.048] \n",
      "INFO:root:Train loss: 0.046158018857240676 || @ epoch 51.\n",
      "Train loss: 0.046158018857240676 || @ epoch 51.\n"
     ]
    },
    {
     "name": "stdout",
     "output_type": "stream",
     "text": [
      "time_for_training  31.516671419143677\n"
     ]
    },
    {
     "name": "stderr",
     "output_type": "stream",
     "text": [
      "INFO:root:Total score: 0.1315184235572815, IOU: 0.7376133743971067, DICE: 0.8439236283302307 || @ epoch 51.\n",
      "Total score: 0.1315184235572815, IOU: 0.7376133743971067, DICE: 0.8439236283302307 || @ epoch 51.\n",
      "Epoch 52: 100%|██████████| 25/25 [00:32<00:00,  1.31s/img, loss (batch)=0.044] \n",
      "INFO:root:Train loss: 0.046201506108045576 || @ epoch 52.\n",
      "Train loss: 0.046201506108045576 || @ epoch 52.\n"
     ]
    },
    {
     "name": "stdout",
     "output_type": "stream",
     "text": [
      "time_for_training  32.70711302757263\n"
     ]
    },
    {
     "name": "stderr",
     "output_type": "stream",
     "text": [
      "INFO:root:Total score: 0.1368478536605835, IOU: 0.7353464402821576, DICE: 0.842011706829071 || @ epoch 52.\n",
      "Total score: 0.1368478536605835, IOU: 0.7353464402821576, DICE: 0.842011706829071 || @ epoch 52.\n",
      "Epoch 53: 100%|██████████| 25/25 [00:31<00:00,  1.26s/img, loss (batch)=0.0421]\n",
      "INFO:root:Train loss: 0.04617982536554337 || @ epoch 53.\n",
      "Train loss: 0.04617982536554337 || @ epoch 53.\n"
     ]
    },
    {
     "name": "stdout",
     "output_type": "stream",
     "text": [
      "time_for_training  31.51760220527649\n"
     ]
    },
    {
     "name": "stderr",
     "output_type": "stream",
     "text": [
      "INFO:root:Total score: 0.13530822098255157, IOU: 0.735434151216984, DICE: 0.8414285206794738 || @ epoch 53.\n",
      "Total score: 0.13530822098255157, IOU: 0.735434151216984, DICE: 0.8414285206794738 || @ epoch 53.\n",
      "Epoch 54: 100%|██████████| 25/25 [00:31<00:00,  1.27s/img, loss (batch)=0.0412]\n",
      "INFO:root:Train loss: 0.046026317924261095 || @ epoch 54.\n",
      "Train loss: 0.046026317924261095 || @ epoch 54.\n"
     ]
    },
    {
     "name": "stdout",
     "output_type": "stream",
     "text": [
      "time_for_training  31.76086950302124\n"
     ]
    },
    {
     "name": "stderr",
     "output_type": "stream",
     "text": [
      "INFO:root:Total score: 0.12649603188037872, IOU: 0.7502238274420842, DICE: 0.8523810768127441 || @ epoch 54.\n",
      "Total score: 0.12649603188037872, IOU: 0.7502238274420842, DICE: 0.8523810768127441 || @ epoch 54.\n",
      "Epoch 55: 100%|██████████| 25/25 [00:33<00:00,  1.34s/img, loss (batch)=0.0412]\n",
      "INFO:root:Train loss: 0.04491028532385826 || @ epoch 55.\n",
      "Train loss: 0.04491028532385826 || @ epoch 55.\n"
     ]
    },
    {
     "name": "stdout",
     "output_type": "stream",
     "text": [
      "time_for_training  33.54227924346924\n"
     ]
    },
    {
     "name": "stderr",
     "output_type": "stream",
     "text": [
      "INFO:root:Total score: 0.1315421462059021, IOU: 0.7392279561445407, DICE: 0.8443021130561829 || @ epoch 55.\n",
      "Total score: 0.1315421462059021, IOU: 0.7392279561445407, DICE: 0.8443021130561829 || @ epoch 55.\n",
      "Epoch 56: 100%|██████████| 25/25 [00:31<00:00,  1.26s/img, loss (batch)=0.047] \n",
      "INFO:root:Train loss: 0.044091829806566236 || @ epoch 56.\n",
      "Train loss: 0.044091829806566236 || @ epoch 56.\n"
     ]
    },
    {
     "name": "stdout",
     "output_type": "stream",
     "text": [
      "time_for_training  31.465803146362305\n"
     ]
    },
    {
     "name": "stderr",
     "output_type": "stream",
     "text": [
      "INFO:root:Total score: 0.1424706131219864, IOU: 0.7249653657251939, DICE: 0.834437165260315 || @ epoch 56.\n",
      "Total score: 0.1424706131219864, IOU: 0.7249653657251939, DICE: 0.834437165260315 || @ epoch 56.\n",
      "Epoch 57: 100%|██████████| 25/25 [00:29<00:00,  1.18s/img, loss (batch)=0.0476]\n",
      "INFO:root:Train loss: 0.04567854106426239 || @ epoch 57.\n",
      "Train loss: 0.04567854106426239 || @ epoch 57.\n"
     ]
    },
    {
     "name": "stdout",
     "output_type": "stream",
     "text": [
      "time_for_training  29.407756567001343\n"
     ]
    },
    {
     "name": "stderr",
     "output_type": "stream",
     "text": [
      "INFO:root:Total score: 0.13693967461585999, IOU: 0.7323070100147053, DICE: 0.8399751305580139 || @ epoch 57.\n",
      "Total score: 0.13693967461585999, IOU: 0.7323070100147053, DICE: 0.8399751305580139 || @ epoch 57.\n",
      "Epoch 58: 100%|██████████| 25/25 [00:28<00:00,  1.15s/img, loss (batch)=0.044] \n",
      "INFO:root:Train loss: 0.04521486848592758 || @ epoch 58.\n",
      "Train loss: 0.04521486848592758 || @ epoch 58.\n"
     ]
    },
    {
     "name": "stdout",
     "output_type": "stream",
     "text": [
      "time_for_training  28.685051918029785\n"
     ]
    },
    {
     "name": "stderr",
     "output_type": "stream",
     "text": [
      "INFO:root:Total score: 0.13134829699993134, IOU: 0.7387527156807684, DICE: 0.8438871383666993 || @ epoch 58.\n",
      "Total score: 0.13134829699993134, IOU: 0.7387527156807684, DICE: 0.8438871383666993 || @ epoch 58.\n",
      "Epoch 59: 100%|██████████| 25/25 [00:27<00:00,  1.11s/img, loss (batch)=0.0443]\n",
      "INFO:root:Train loss: 0.04492016240954399 || @ epoch 59.\n",
      "Train loss: 0.04492016240954399 || @ epoch 59.\n"
     ]
    },
    {
     "name": "stdout",
     "output_type": "stream",
     "text": [
      "time_for_training  27.809305429458618\n"
     ]
    },
    {
     "name": "stderr",
     "output_type": "stream",
     "text": [
      "INFO:root:Total score: 0.12678417563438416, IOU: 0.7496223442215861, DICE: 0.8518599462509155 || @ epoch 59.\n",
      "Total score: 0.12678417563438416, IOU: 0.7496223442215861, DICE: 0.8518599462509155 || @ epoch 59.\n",
      "Epoch 60: 100%|██████████| 25/25 [00:28<00:00,  1.13s/img, loss (batch)=0.0453]\n",
      "INFO:root:Train loss: 0.04444054901599884 || @ epoch 60.\n",
      "Train loss: 0.04444054901599884 || @ epoch 60.\n"
     ]
    },
    {
     "name": "stdout",
     "output_type": "stream",
     "text": [
      "time_for_training  28.340503215789795\n"
     ]
    },
    {
     "name": "stderr",
     "output_type": "stream",
     "text": [
      "INFO:root:Total score: 0.1277799755334854, IOU: 0.7463693654289658, DICE: 0.8496110773086548 || @ epoch 60.\n",
      "Total score: 0.1277799755334854, IOU: 0.7463693654289658, DICE: 0.8496110773086548 || @ epoch 60.\n",
      "Epoch 61: 100%|██████████| 25/25 [00:28<00:00,  1.15s/img, loss (batch)=0.0458]\n",
      "INFO:root:Train loss: 0.04396909579634666 || @ epoch 61.\n",
      "Train loss: 0.04396909579634666 || @ epoch 61.\n"
     ]
    },
    {
     "name": "stdout",
     "output_type": "stream",
     "text": [
      "time_for_training  28.69894576072693\n"
     ]
    },
    {
     "name": "stderr",
     "output_type": "stream",
     "text": [
      "INFO:root:Total score: 0.13130514323711395, IOU: 0.7435671317489951, DICE: 0.8476586318016053 || @ epoch 61.\n",
      "Total score: 0.13130514323711395, IOU: 0.7435671317489951, DICE: 0.8476586318016053 || @ epoch 61.\n",
      "Epoch 62: 100%|██████████| 25/25 [00:27<00:00,  1.11s/img, loss (batch)=0.0413]\n",
      "INFO:root:Train loss: 0.04371754378080368 || @ epoch 62.\n",
      "Train loss: 0.04371754378080368 || @ epoch 62.\n"
     ]
    },
    {
     "name": "stdout",
     "output_type": "stream",
     "text": [
      "time_for_training  27.76722502708435\n"
     ]
    },
    {
     "name": "stderr",
     "output_type": "stream",
     "text": [
      "INFO:root:Total score: 0.1458268016576767, IOU: 0.721764811809815, DICE: 0.8327067232131958 || @ epoch 62.\n",
      "Total score: 0.1458268016576767, IOU: 0.721764811809815, DICE: 0.8327067232131958 || @ epoch 62.\n",
      "Epoch 63: 100%|██████████| 25/25 [00:27<00:00,  1.11s/img, loss (batch)=0.0452]\n",
      "INFO:root:Train loss: 0.045616496503353116 || @ epoch 63.\n",
      "Train loss: 0.045616496503353116 || @ epoch 63.\n"
     ]
    },
    {
     "name": "stdout",
     "output_type": "stream",
     "text": [
      "time_for_training  27.82310438156128\n"
     ]
    },
    {
     "name": "stderr",
     "output_type": "stream",
     "text": [
      "INFO:root:Total score: 0.13790497183799744, IOU: 0.7322013990192551, DICE: 0.8389441895484925 || @ epoch 63.\n",
      "Total score: 0.13790497183799744, IOU: 0.7322013990192551, DICE: 0.8389441895484925 || @ epoch 63.\n",
      "Epoch 64: 100%|██████████| 25/25 [00:28<00:00,  1.13s/img, loss (batch)=0.0416]\n",
      "INFO:root:Train loss: 0.04317749693989754 || @ epoch 64.\n",
      "Train loss: 0.04317749693989754 || @ epoch 64.\n"
     ]
    },
    {
     "name": "stdout",
     "output_type": "stream",
     "text": [
      "time_for_training  28.15081548690796\n"
     ]
    },
    {
     "name": "stderr",
     "output_type": "stream",
     "text": [
      "INFO:root:Total score: 0.1355653703212738, IOU: 0.7415096230546422, DICE: 0.8462727642059327 || @ epoch 64.\n",
      "Total score: 0.1355653703212738, IOU: 0.7415096230546422, DICE: 0.8462727642059327 || @ epoch 64.\n",
      "Epoch 65: 100%|██████████| 25/25 [00:28<00:00,  1.14s/img, loss (batch)=0.0423]\n",
      "INFO:root:Train loss: 0.04272995695471764 || @ epoch 65.\n",
      "Train loss: 0.04272995695471764 || @ epoch 65.\n"
     ]
    },
    {
     "name": "stdout",
     "output_type": "stream",
     "text": [
      "time_for_training  28.596961975097656\n"
     ]
    },
    {
     "name": "stderr",
     "output_type": "stream",
     "text": [
      "INFO:root:Total score: 0.1307462900876999, IOU: 0.745703724461095, DICE: 0.8489713191986084 || @ epoch 65.\n",
      "Total score: 0.1307462900876999, IOU: 0.745703724461095, DICE: 0.8489713191986084 || @ epoch 65.\n",
      "Epoch 66: 100%|██████████| 25/25 [00:28<00:00,  1.15s/img, loss (batch)=0.0384]\n",
      "INFO:root:Train loss: 0.04331801280379295 || @ epoch 66.\n",
      "Train loss: 0.04331801280379295 || @ epoch 66.\n"
     ]
    },
    {
     "name": "stdout",
     "output_type": "stream",
     "text": [
      "time_for_training  28.69014811515808\n"
     ]
    },
    {
     "name": "stderr",
     "output_type": "stream",
     "text": [
      "INFO:root:Total score: 0.13623642921447754, IOU: 0.7370652675037047, DICE: 0.843361759185791 || @ epoch 66.\n",
      "Total score: 0.13623642921447754, IOU: 0.7370652675037047, DICE: 0.843361759185791 || @ epoch 66.\n",
      "Epoch 67: 100%|██████████| 25/25 [00:28<00:00,  1.16s/img, loss (batch)=0.0474]\n",
      "INFO:root:Train loss: 0.043095456212759016 || @ epoch 67.\n",
      "Train loss: 0.043095456212759016 || @ epoch 67.\n"
     ]
    },
    {
     "name": "stdout",
     "output_type": "stream",
     "text": [
      "time_for_training  28.992534637451172\n"
     ]
    },
    {
     "name": "stderr",
     "output_type": "stream",
     "text": [
      "INFO:root:Total score: 0.13568823039531708, IOU: 0.7376843456527308, DICE: 0.8438654613494873 || @ epoch 67.\n",
      "Total score: 0.13568823039531708, IOU: 0.7376843456527308, DICE: 0.8438654613494873 || @ epoch 67.\n",
      "Epoch 68: 100%|██████████| 25/25 [00:28<00:00,  1.14s/img, loss (batch)=0.0443]\n",
      "INFO:root:Train loss: 0.04263763725757599 || @ epoch 68.\n",
      "Train loss: 0.04263763725757599 || @ epoch 68.\n"
     ]
    },
    {
     "name": "stdout",
     "output_type": "stream",
     "text": [
      "time_for_training  28.446152210235596\n"
     ]
    },
    {
     "name": "stderr",
     "output_type": "stream",
     "text": [
      "INFO:root:Total score: 0.136305570602417, IOU: 0.7390448464317739, DICE: 0.8444693613052369 || @ epoch 68.\n",
      "Total score: 0.136305570602417, IOU: 0.7390448464317739, DICE: 0.8444693613052369 || @ epoch 68.\n",
      "Epoch 69: 100%|██████████| 25/25 [00:28<00:00,  1.13s/img, loss (batch)=0.0445]\n",
      "INFO:root:Train loss: 0.04390918433666229 || @ epoch 69.\n",
      "Train loss: 0.04390918433666229 || @ epoch 69.\n"
     ]
    },
    {
     "name": "stdout",
     "output_type": "stream",
     "text": [
      "time_for_training  28.28772497177124\n"
     ]
    },
    {
     "name": "stderr",
     "output_type": "stream",
     "text": [
      "INFO:root:Total score: 0.1277032047510147, IOU: 0.7507464883327676, DICE: 0.8528887438774109 || @ epoch 69.\n",
      "Total score: 0.1277032047510147, IOU: 0.7507464883327676, DICE: 0.8528887438774109 || @ epoch 69.\n",
      "Epoch 70: 100%|██████████| 25/25 [00:28<00:00,  1.14s/img, loss (batch)=0.0414]\n",
      "INFO:root:Train loss: 0.04394051417708397 || @ epoch 70.\n",
      "Train loss: 0.04394051417708397 || @ epoch 70.\n"
     ]
    },
    {
     "name": "stdout",
     "output_type": "stream",
     "text": [
      "time_for_training  28.631914615631104\n"
     ]
    },
    {
     "name": "stderr",
     "output_type": "stream",
     "text": [
      "INFO:root:Total score: 0.13550890982151031, IOU: 0.7383247348129065, DICE: 0.8440026187896729 || @ epoch 70.\n",
      "Total score: 0.13550890982151031, IOU: 0.7383247348129065, DICE: 0.8440026187896729 || @ epoch 70.\n",
      "Epoch 71: 100%|██████████| 25/25 [00:29<00:00,  1.17s/img, loss (batch)=0.0435]\n",
      "INFO:root:Train loss: 0.04358148768544197 || @ epoch 71.\n",
      "Train loss: 0.04358148768544197 || @ epoch 71.\n"
     ]
    },
    {
     "name": "stdout",
     "output_type": "stream",
     "text": [
      "time_for_training  29.2846360206604\n"
     ]
    },
    {
     "name": "stderr",
     "output_type": "stream",
     "text": [
      "INFO:root:Total score: 0.1303744912147522, IOU: 0.7445772267583836, DICE: 0.8485937428474426 || @ epoch 71.\n",
      "Total score: 0.1303744912147522, IOU: 0.7445772267583836, DICE: 0.8485937428474426 || @ epoch 71.\n",
      "Epoch 72: 100%|██████████| 25/25 [00:28<00:00,  1.13s/img, loss (batch)=0.042] \n",
      "INFO:root:Train loss: 0.043567280918359756 || @ epoch 72.\n",
      "Train loss: 0.043567280918359756 || @ epoch 72.\n"
     ]
    },
    {
     "name": "stdout",
     "output_type": "stream",
     "text": [
      "time_for_training  28.33850407600403\n"
     ]
    },
    {
     "name": "stderr",
     "output_type": "stream",
     "text": [
      "INFO:root:Total score: 0.14019407331943512, IOU: 0.7305569761815076, DICE: 0.8385855507850647 || @ epoch 72.\n",
      "Total score: 0.14019407331943512, IOU: 0.7305569761815076, DICE: 0.8385855507850647 || @ epoch 72.\n",
      "Epoch 73: 100%|██████████| 25/25 [00:28<00:00,  1.14s/img, loss (batch)=0.0378]\n",
      "INFO:root:Train loss: 0.043699786514043805 || @ epoch 73.\n",
      "Train loss: 0.043699786514043805 || @ epoch 73.\n"
     ]
    },
    {
     "name": "stdout",
     "output_type": "stream",
     "text": [
      "time_for_training  28.608489513397217\n"
     ]
    },
    {
     "name": "stderr",
     "output_type": "stream",
     "text": [
      "INFO:root:Total score: 0.14552928507328033, IOU: 0.728697737274016, DICE: 0.836912431716919 || @ epoch 73.\n",
      "Total score: 0.14552928507328033, IOU: 0.728697737274016, DICE: 0.836912431716919 || @ epoch 73.\n",
      "Epoch 74: 100%|██████████| 25/25 [00:28<00:00,  1.13s/img, loss (batch)=0.0425]\n",
      "INFO:root:Train loss: 0.043227002918720246 || @ epoch 74.\n",
      "Train loss: 0.043227002918720246 || @ epoch 74.\n"
     ]
    },
    {
     "name": "stdout",
     "output_type": "stream",
     "text": [
      "time_for_training  28.313782453536987\n"
     ]
    },
    {
     "name": "stderr",
     "output_type": "stream",
     "text": [
      "INFO:root:Total score: 0.12728476524353027, IOU: 0.7508499546866715, DICE: 0.8526109552383423 || @ epoch 74.\n",
      "Total score: 0.12728476524353027, IOU: 0.7508499546866715, DICE: 0.8526109552383423 || @ epoch 74.\n",
      "Epoch 75: 100%|██████████| 25/25 [00:28<00:00,  1.15s/img, loss (batch)=0.0399]\n",
      "INFO:root:Train loss: 0.042249003797769545 || @ epoch 75.\n",
      "Train loss: 0.042249003797769545 || @ epoch 75.\n"
     ]
    },
    {
     "name": "stdout",
     "output_type": "stream",
     "text": [
      "time_for_training  28.800920009613037\n"
     ]
    },
    {
     "name": "stderr",
     "output_type": "stream",
     "text": [
      "INFO:root:Total score: 0.13193374872207642, IOU: 0.7438600984057975, DICE: 0.8475017261505127 || @ epoch 75.\n",
      "Total score: 0.13193374872207642, IOU: 0.7438600984057975, DICE: 0.8475017261505127 || @ epoch 75.\n",
      "Epoch 76: 100%|██████████| 25/25 [00:28<00:00,  1.13s/img, loss (batch)=0.0395]\n",
      "INFO:root:Train loss: 0.04267531171441078 || @ epoch 76.\n",
      "Train loss: 0.04267531171441078 || @ epoch 76.\n"
     ]
    },
    {
     "name": "stdout",
     "output_type": "stream",
     "text": [
      "time_for_training  28.357070684432983\n"
     ]
    },
    {
     "name": "stderr",
     "output_type": "stream",
     "text": [
      "INFO:root:Total score: 0.14028234779834747, IOU: 0.7349816269884965, DICE: 0.8417342472076416 || @ epoch 76.\n",
      "Total score: 0.14028234779834747, IOU: 0.7349816269884965, DICE: 0.8417342472076416 || @ epoch 76.\n",
      "Epoch 77: 100%|██████████| 25/25 [00:28<00:00,  1.14s/img, loss (batch)=0.0387]\n",
      "INFO:root:Train loss: 0.04391342267394066 || @ epoch 77.\n",
      "Train loss: 0.04391342267394066 || @ epoch 77.\n"
     ]
    },
    {
     "name": "stdout",
     "output_type": "stream",
     "text": [
      "time_for_training  28.463996410369873\n"
     ]
    },
    {
     "name": "stderr",
     "output_type": "stream",
     "text": [
      "INFO:root:Total score: 0.13850244879722595, IOU: 0.7331584694792684, DICE: 0.8404177260398865 || @ epoch 77.\n",
      "Total score: 0.13850244879722595, IOU: 0.7331584694792684, DICE: 0.8404177260398865 || @ epoch 77.\n",
      "Epoch 78: 100%|██████████| 25/25 [00:27<00:00,  1.12s/img, loss (batch)=0.0385]\n",
      "INFO:root:Train loss: 0.04244345456361771 || @ epoch 78.\n",
      "Train loss: 0.04244345456361771 || @ epoch 78.\n"
     ]
    },
    {
     "name": "stdout",
     "output_type": "stream",
     "text": [
      "time_for_training  27.9985134601593\n"
     ]
    },
    {
     "name": "stderr",
     "output_type": "stream",
     "text": [
      "INFO:root:Total score: 0.13042721152305603, IOU: 0.7456085844601995, DICE: 0.8490083980560302 || @ epoch 78.\n",
      "Total score: 0.13042721152305603, IOU: 0.7456085844601995, DICE: 0.8490083980560302 || @ epoch 78.\n",
      "Epoch 79: 100%|██████████| 25/25 [00:28<00:00,  1.13s/img, loss (batch)=0.0397]\n",
      "INFO:root:Train loss: 0.042488806694746015 || @ epoch 79.\n",
      "Train loss: 0.042488806694746015 || @ epoch 79.\n"
     ]
    },
    {
     "name": "stdout",
     "output_type": "stream",
     "text": [
      "time_for_training  28.27065658569336\n"
     ]
    },
    {
     "name": "stderr",
     "output_type": "stream",
     "text": [
      "INFO:root:Total score: 0.15176653861999512, IOU: 0.7203659734358054, DICE: 0.8310476732254028 || @ epoch 79.\n",
      "Total score: 0.15176653861999512, IOU: 0.7203659734358054, DICE: 0.8310476732254028 || @ epoch 79.\n",
      "Epoch 80: 100%|██████████| 25/25 [00:28<00:00,  1.13s/img, loss (batch)=0.0445]\n",
      "INFO:root:Train loss: 0.04317116737365723 || @ epoch 80.\n",
      "Train loss: 0.04317116737365723 || @ epoch 80.\n"
     ]
    },
    {
     "name": "stdout",
     "output_type": "stream",
     "text": [
      "time_for_training  28.389993906021118\n"
     ]
    },
    {
     "name": "stderr",
     "output_type": "stream",
     "text": [
      "INFO:root:Total score: 0.13753217458724976, IOU: 0.7360884922514961, DICE: 0.8425491285324097 || @ epoch 80.\n",
      "Total score: 0.13753217458724976, IOU: 0.7360884922514961, DICE: 0.8425491285324097 || @ epoch 80.\n",
      "Epoch 81: 100%|██████████| 25/25 [00:29<00:00,  1.18s/img, loss (batch)=0.0393]\n",
      "INFO:root:Train loss: 0.04138079956173897 || @ epoch 81.\n",
      "Train loss: 0.04138079956173897 || @ epoch 81.\n"
     ]
    },
    {
     "name": "stdout",
     "output_type": "stream",
     "text": [
      "time_for_training  29.53282141685486\n"
     ]
    },
    {
     "name": "stderr",
     "output_type": "stream",
     "text": [
      "INFO:root:Total score: 0.1406298726797104, IOU: 0.7359926247107011, DICE: 0.842372031211853 || @ epoch 81.\n",
      "Total score: 0.1406298726797104, IOU: 0.7359926247107011, DICE: 0.842372031211853 || @ epoch 81.\n",
      "Epoch 82: 100%|██████████| 25/25 [00:28<00:00,  1.15s/img, loss (batch)=0.0394]\n",
      "INFO:root:Train loss: 0.04150824248790741 || @ epoch 82.\n",
      "Train loss: 0.04150824248790741 || @ epoch 82.\n"
     ]
    },
    {
     "name": "stdout",
     "output_type": "stream",
     "text": [
      "time_for_training  28.88153076171875\n"
     ]
    },
    {
     "name": "stderr",
     "output_type": "stream",
     "text": [
      "INFO:root:Total score: 0.13914068043231964, IOU: 0.7397844836149753, DICE: 0.8448244547843933 || @ epoch 82.\n",
      "Total score: 0.13914068043231964, IOU: 0.7397844836149753, DICE: 0.8448244547843933 || @ epoch 82.\n",
      "Epoch 83: 100%|██████████| 25/25 [00:29<00:00,  1.19s/img, loss (batch)=0.0415]\n",
      "INFO:root:Train loss: 0.04196151167154312 || @ epoch 83.\n",
      "Train loss: 0.04196151167154312 || @ epoch 83.\n"
     ]
    },
    {
     "name": "stdout",
     "output_type": "stream",
     "text": [
      "time_for_training  29.679861068725586\n"
     ]
    },
    {
     "name": "stderr",
     "output_type": "stream",
     "text": [
      "INFO:root:Total score: 0.1367160826921463, IOU: 0.7380192350195623, DICE: 0.8434037017822266 || @ epoch 83.\n",
      "Total score: 0.1367160826921463, IOU: 0.7380192350195623, DICE: 0.8434037017822266 || @ epoch 83.\n",
      "Epoch 84: 100%|██████████| 25/25 [00:28<00:00,  1.13s/img, loss (batch)=0.0443]\n",
      "INFO:root:Train loss: 0.042945661544799806 || @ epoch 84.\n",
      "Train loss: 0.042945661544799806 || @ epoch 84.\n"
     ]
    },
    {
     "name": "stdout",
     "output_type": "stream",
     "text": [
      "time_for_training  28.341676235198975\n"
     ]
    },
    {
     "name": "stderr",
     "output_type": "stream",
     "text": [
      "INFO:root:Total score: 0.14274641871452332, IOU: 0.7348564891513492, DICE: 0.8416173648834229 || @ epoch 84.\n",
      "Total score: 0.14274641871452332, IOU: 0.7348564891513492, DICE: 0.8416173648834229 || @ epoch 84.\n",
      "Epoch 85: 100%|██████████| 25/25 [00:28<00:00,  1.14s/img, loss (batch)=0.0402]\n",
      "INFO:root:Train loss: 0.042304571121931075 || @ epoch 85.\n",
      "Train loss: 0.042304571121931075 || @ epoch 85.\n"
     ]
    },
    {
     "name": "stdout",
     "output_type": "stream",
     "text": [
      "time_for_training  28.589771509170532\n"
     ]
    },
    {
     "name": "stderr",
     "output_type": "stream",
     "text": [
      "INFO:root:Total score: 0.14517931640148163, IOU: 0.7286732200853572, DICE: 0.837429301738739 || @ epoch 85.\n",
      "Total score: 0.14517931640148163, IOU: 0.7286732200853572, DICE: 0.837429301738739 || @ epoch 85.\n",
      "Epoch 86: 100%|██████████| 25/25 [00:28<00:00,  1.14s/img, loss (batch)=0.0422]\n",
      "INFO:root:Train loss: 0.041938539892435074 || @ epoch 86.\n",
      "Train loss: 0.041938539892435074 || @ epoch 86.\n"
     ]
    },
    {
     "name": "stdout",
     "output_type": "stream",
     "text": [
      "time_for_training  28.423300981521606\n"
     ]
    },
    {
     "name": "stderr",
     "output_type": "stream",
     "text": [
      "INFO:root:Total score: 0.15359361469745636, IOU: 0.7186352116067498, DICE: 0.8298306226730346 || @ epoch 86.\n",
      "Total score: 0.15359361469745636, IOU: 0.7186352116067498, DICE: 0.8298306226730346 || @ epoch 86.\n",
      "Epoch 87: 100%|██████████| 25/25 [00:28<00:00,  1.12s/img, loss (batch)=0.0379]\n",
      "INFO:root:Train loss: 0.04148456484079361 || @ epoch 87.\n",
      "Train loss: 0.04148456484079361 || @ epoch 87.\n"
     ]
    },
    {
     "name": "stdout",
     "output_type": "stream",
     "text": [
      "time_for_training  28.098575115203857\n"
     ]
    },
    {
     "name": "stderr",
     "output_type": "stream",
     "text": [
      "INFO:root:Total score: 0.1321207731962204, IOU: 0.7452464660848622, DICE: 0.8490523552894592 || @ epoch 87.\n",
      "Total score: 0.1321207731962204, IOU: 0.7452464660848622, DICE: 0.8490523552894592 || @ epoch 87.\n",
      "Epoch 88: 100%|██████████| 25/25 [00:28<00:00,  1.15s/img, loss (batch)=0.0427]\n",
      "INFO:root:Train loss: 0.041080097407102584 || @ epoch 88.\n",
      "Train loss: 0.041080097407102584 || @ epoch 88.\n"
     ]
    },
    {
     "name": "stdout",
     "output_type": "stream",
     "text": [
      "time_for_training  28.754316806793213\n"
     ]
    },
    {
     "name": "stderr",
     "output_type": "stream",
     "text": [
      "INFO:root:Total score: 0.13455882668495178, IOU: 0.7417644125129185, DICE: 0.8464698791503906 || @ epoch 88.\n",
      "Total score: 0.13455882668495178, IOU: 0.7417644125129185, DICE: 0.8464698791503906 || @ epoch 88.\n",
      "Epoch 89: 100%|██████████| 25/25 [00:28<00:00,  1.13s/img, loss (batch)=0.0393]\n",
      "INFO:root:Train loss: 0.040798033624887466 || @ epoch 89.\n",
      "Train loss: 0.040798033624887466 || @ epoch 89.\n"
     ]
    },
    {
     "name": "stdout",
     "output_type": "stream",
     "text": [
      "time_for_training  28.237776041030884\n"
     ]
    },
    {
     "name": "stderr",
     "output_type": "stream",
     "text": [
      "INFO:root:Total score: 0.1345176100730896, IOU: 0.7426681611642065, DICE: 0.8468749356269837 || @ epoch 89.\n",
      "Total score: 0.1345176100730896, IOU: 0.7426681611642065, DICE: 0.8468749356269837 || @ epoch 89.\n",
      "Epoch 90: 100%|██████████| 25/25 [00:28<00:00,  1.12s/img, loss (batch)=0.0389]\n",
      "INFO:root:Train loss: 0.04122436985373497 || @ epoch 90.\n",
      "Train loss: 0.04122436985373497 || @ epoch 90.\n"
     ]
    },
    {
     "name": "stdout",
     "output_type": "stream",
     "text": [
      "time_for_training  28.05609369277954\n"
     ]
    },
    {
     "name": "stderr",
     "output_type": "stream",
     "text": [
      "INFO:root:Total score: 0.16317050158977509, IOU: 0.7101352374442084, DICE: 0.8239771962165833 || @ epoch 90.\n",
      "Total score: 0.16317050158977509, IOU: 0.7101352374442084, DICE: 0.8239771962165833 || @ epoch 90.\n",
      "Epoch 91: 100%|██████████| 25/25 [00:28<00:00,  1.14s/img, loss (batch)=0.0367]\n",
      "INFO:root:Train loss: 0.04117486074566841 || @ epoch 91.\n",
      "Train loss: 0.04117486074566841 || @ epoch 91.\n"
     ]
    },
    {
     "name": "stdout",
     "output_type": "stream",
     "text": [
      "time_for_training  28.439099311828613\n"
     ]
    },
    {
     "name": "stderr",
     "output_type": "stream",
     "text": [
      "INFO:root:Total score: 0.1383494734764099, IOU: 0.7406583956837892, DICE: 0.8456702923774719 || @ epoch 91.\n",
      "Total score: 0.1383494734764099, IOU: 0.7406583956837892, DICE: 0.8456702923774719 || @ epoch 91.\n",
      "Epoch 92: 100%|██████████| 25/25 [00:30<00:00,  1.23s/img, loss (batch)=0.0345]\n",
      "INFO:root:Train loss: 0.040838642120361326 || @ epoch 92.\n",
      "Train loss: 0.040838642120361326 || @ epoch 92.\n"
     ]
    },
    {
     "name": "stdout",
     "output_type": "stream",
     "text": [
      "time_for_training  30.816118001937866\n"
     ]
    },
    {
     "name": "stderr",
     "output_type": "stream",
     "text": [
      "INFO:root:Total score: 0.15604576468467712, IOU: 0.7199348455117456, DICE: 0.8307709240913391 || @ epoch 92.\n",
      "Total score: 0.15604576468467712, IOU: 0.7199348455117456, DICE: 0.8307709240913391 || @ epoch 92.\n",
      "Epoch 93: 100%|██████████| 25/25 [00:29<00:00,  1.17s/img, loss (batch)=0.0422]\n",
      "INFO:root:Train loss: 0.04173808932304382 || @ epoch 93.\n",
      "Train loss: 0.04173808932304382 || @ epoch 93.\n"
     ]
    },
    {
     "name": "stdout",
     "output_type": "stream",
     "text": [
      "time_for_training  29.170058488845825\n"
     ]
    },
    {
     "name": "stderr",
     "output_type": "stream",
     "text": [
      "INFO:root:Total score: 0.15186923742294312, IOU: 0.7206207029811718, DICE: 0.8317374992370605 || @ epoch 93.\n",
      "Total score: 0.15186923742294312, IOU: 0.7206207029811718, DICE: 0.8317374992370605 || @ epoch 93.\n",
      "Epoch 94: 100%|██████████| 25/25 [00:29<00:00,  1.17s/img, loss (batch)=0.0359]\n",
      "INFO:root:Train loss: 0.040969164222478864 || @ epoch 94.\n",
      "Train loss: 0.040969164222478864 || @ epoch 94.\n"
     ]
    },
    {
     "name": "stdout",
     "output_type": "stream",
     "text": [
      "time_for_training  29.186514377593994\n"
     ]
    },
    {
     "name": "stderr",
     "output_type": "stream",
     "text": [
      "INFO:root:Total score: 0.14615358412265778, IOU: 0.7279160858927811, DICE: 0.8368400311470032 || @ epoch 94.\n",
      "Total score: 0.14615358412265778, IOU: 0.7279160858927811, DICE: 0.8368400311470032 || @ epoch 94.\n",
      "Epoch 95: 100%|██████████| 25/25 [00:28<00:00,  1.14s/img, loss (batch)=0.0371]\n",
      "INFO:root:Train loss: 0.04133764714002609 || @ epoch 95.\n",
      "Train loss: 0.04133764714002609 || @ epoch 95.\n"
     ]
    },
    {
     "name": "stdout",
     "output_type": "stream",
     "text": [
      "time_for_training  28.512242555618286\n"
     ]
    },
    {
     "name": "stderr",
     "output_type": "stream",
     "text": [
      "INFO:root:Total score: 0.1624206155538559, IOU: 0.7122033709662408, DICE: 0.8254153156280517 || @ epoch 95.\n",
      "Total score: 0.1624206155538559, IOU: 0.7122033709662408, DICE: 0.8254153156280517 || @ epoch 95.\n",
      "Epoch 96: 100%|██████████| 25/25 [00:28<00:00,  1.14s/img, loss (batch)=0.039] \n",
      "INFO:root:Train loss: 0.04088520497083664 || @ epoch 96.\n",
      "Train loss: 0.04088520497083664 || @ epoch 96.\n"
     ]
    },
    {
     "name": "stdout",
     "output_type": "stream",
     "text": [
      "time_for_training  28.40842080116272\n"
     ]
    },
    {
     "name": "stderr",
     "output_type": "stream",
     "text": [
      "INFO:root:Total score: 0.14122158288955688, IOU: 0.7357962994171449, DICE: 0.8419453263282776 || @ epoch 96.\n",
      "Total score: 0.14122158288955688, IOU: 0.7357962994171449, DICE: 0.8419453263282776 || @ epoch 96.\n",
      "Epoch 97: 100%|██████████| 25/25 [00:28<00:00,  1.12s/img, loss (batch)=0.0388]\n",
      "INFO:root:Train loss: 0.04046024829149246 || @ epoch 97.\n",
      "Train loss: 0.04046024829149246 || @ epoch 97.\n"
     ]
    },
    {
     "name": "stdout",
     "output_type": "stream",
     "text": [
      "time_for_training  28.124143362045288\n"
     ]
    },
    {
     "name": "stderr",
     "output_type": "stream",
     "text": [
      "INFO:root:Total score: 0.1384490430355072, IOU: 0.739466400987922, DICE: 0.8451478290557861 || @ epoch 97.\n",
      "Total score: 0.1384490430355072, IOU: 0.739466400987922, DICE: 0.8451478290557861 || @ epoch 97.\n",
      "Epoch 98: 100%|██████████| 25/25 [00:28<00:00,  1.14s/img, loss (batch)=0.0468]\n",
      "INFO:root:Train loss: 0.040795320123434065 || @ epoch 98.\n",
      "Train loss: 0.040795320123434065 || @ epoch 98.\n"
     ]
    },
    {
     "name": "stdout",
     "output_type": "stream",
     "text": [
      "time_for_training  28.489284992218018\n"
     ]
    },
    {
     "name": "stderr",
     "output_type": "stream",
     "text": [
      "INFO:root:Total score: 0.13946491479873657, IOU: 0.7368132980405422, DICE: 0.8427492856979371 || @ epoch 98.\n",
      "Total score: 0.13946491479873657, IOU: 0.7368132980405422, DICE: 0.8427492856979371 || @ epoch 98.\n",
      "Epoch 99: 100%|██████████| 25/25 [00:28<00:00,  1.14s/img, loss (batch)=0.0434]\n",
      "INFO:root:Train loss: 0.04192972794175148 || @ epoch 99.\n",
      "Train loss: 0.04192972794175148 || @ epoch 99.\n"
     ]
    },
    {
     "name": "stdout",
     "output_type": "stream",
     "text": [
      "time_for_training  28.401282787322998\n"
     ]
    },
    {
     "name": "stderr",
     "output_type": "stream",
     "text": [
      "INFO:root:Total score: 0.15726618468761444, IOU: 0.7177137823962036, DICE: 0.8295914077758789 || @ epoch 99.\n",
      "Total score: 0.15726618468761444, IOU: 0.7177137823962036, DICE: 0.8295914077758789 || @ epoch 99.\n"
     ]
    }
   ],
   "source": [
    "main(default_args)"
   ]
  },
  {
   "cell_type": "code",
   "execution_count": null,
   "metadata": {},
   "outputs": [],
   "source": []
  }
 ],
 "metadata": {
  "kernelspec": {
   "display_name": "default",
   "language": "python",
   "name": "python3"
  },
  "language_info": {
   "codemirror_mode": {
    "name": "ipython",
    "version": 3
   },
   "file_extension": ".py",
   "mimetype": "text/x-python",
   "name": "python",
   "nbconvert_exporter": "python",
   "pygments_lexer": "ipython3",
   "version": "3.12.5"
  }
 },
 "nbformat": 4,
 "nbformat_minor": 2
}
